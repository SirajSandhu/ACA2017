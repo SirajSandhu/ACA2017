{
 "cells": [
  {
   "cell_type": "code",
   "execution_count": 23,
   "metadata": {
    "collapsed": false,
    "deletable": true,
    "editable": true
   },
   "outputs": [
    {
     "name": "stdout",
     "output_type": "stream",
     "text": [
      "Read 25000 labeled train reviews, 25000 labeled test reviews, and 50000 unlabeled reviews\n",
      "\n"
     ]
    }
   ],
   "source": [
    "import pandas as pd\n",
    "\n",
    "train = pd.read_csv(\"labeledTrainData.tsv\", header=0, delimiter=\"\\t\", quoting=3, encoding='utf8')\n",
    "test = pd.read_csv(\"testData.tsv\", header=0, delimiter=\"\\t\", quoting=3, encoding='utf8')\n",
    "unlabeled_train = pd.read_csv(\"unlabeledTrainData.tsv\", header=0, delimiter=\"\\t\", quoting=3, encoding='utf8')\n",
    "\n",
    "print \"Read %d labeled train reviews, %d labeled test reviews, and %d unlabeled reviews\\n\" % \\\n",
    "(train[\"review\"].size, test[\"review\"].size, unlabeled_train[\"review\"].size )"
   ]
  },
  {
   "cell_type": "code",
   "execution_count": 24,
   "metadata": {
    "collapsed": false,
    "deletable": true,
    "editable": true
   },
   "outputs": [],
   "source": [
    "from bs4 import BeautifulSoup\n",
    "import re\n",
    "from nltk.corpus import stopwords\n",
    "\n",
    "def review_to_wordlist (review, remove_stopwords = False) :\n",
    "    #remove html\n",
    "    review_text = BeautifulSoup(review).get_text()\n",
    "    #remove non-letters\n",
    "    review_text = re.sub(\"[^a-zA-Z]\",\" \", review_text)\n",
    "    #lowercase and split\n",
    "    words = review_text.lower().split()\n",
    "    #remove stopwords\n",
    "    if remove_stopwords :\n",
    "            stops = set(stopwords.words(\"english\"))\n",
    "            words = [w for w in words if not w in stops]\n",
    "    #return a list\n",
    "    return (words)"
   ]
  },
  {
   "cell_type": "code",
   "execution_count": 25,
   "metadata": {
    "collapsed": false,
    "deletable": true,
    "editable": true
   },
   "outputs": [
    {
     "name": "stdout",
     "output_type": "stream",
     "text": [
      "[u'with', u'all', u'this', u'stuff', u'going', u'down', u'at', u'the', u'moment', u'with', u'mj', u'i', u've', u'started', u'listening', u'to', u'his', u'music', u'watching', u'the', u'odd', u'documentary', u'here', u'and', u'there', u'watched', u'the', u'wiz', u'and', u'watched', u'moonwalker', u'again', u'maybe', u'i', u'just', u'want', u'to', u'get', u'a', u'certain', u'insight', u'into', u'this', u'guy', u'who', u'i', u'thought', u'was', u'really', u'cool', u'in', u'the', u'eighties', u'just', u'to', u'maybe', u'make', u'up', u'my', u'mind', u'whether', u'he', u'is', u'guilty', u'or', u'innocent', u'moonwalker', u'is', u'part', u'biography', u'part', u'feature', u'film', u'which', u'i', u'remember', u'going', u'to', u'see', u'at', u'the', u'cinema', u'when', u'it', u'was', u'originally', u'released', u'some', u'of', u'it', u'has', u'subtle', u'messages', u'about', u'mj', u's', u'feeling', u'towards', u'the', u'press', u'and', u'also', u'the', u'obvious', u'message', u'of', u'drugs', u'are', u'bad', u'm', u'kay', u'visually', u'impressive', u'but', u'of', u'course', u'this', u'is', u'all', u'about', u'michael', u'jackson', u'so', u'unless', u'you', u'remotely', u'like', u'mj', u'in', u'anyway', u'then', u'you', u'are', u'going', u'to', u'hate', u'this', u'and', u'find', u'it', u'boring', u'some', u'may', u'call', u'mj', u'an', u'egotist', u'for', u'consenting', u'to', u'the', u'making', u'of', u'this', u'movie', u'but', u'mj', u'and', u'most', u'of', u'his', u'fans', u'would', u'say', u'that', u'he', u'made', u'it', u'for', u'the', u'fans', u'which', u'if', u'true', u'is', u'really', u'nice', u'of', u'him', u'the', u'actual', u'feature', u'film', u'bit', u'when', u'it', u'finally', u'starts', u'is', u'only', u'on', u'for', u'minutes', u'or', u'so', u'excluding', u'the', u'smooth', u'criminal', u'sequence', u'and', u'joe', u'pesci', u'is', u'convincing', u'as', u'a', u'psychopathic', u'all', u'powerful', u'drug', u'lord', u'why', u'he', u'wants', u'mj', u'dead', u'so', u'bad', u'is', u'beyond', u'me', u'because', u'mj', u'overheard', u'his', u'plans', u'nah', u'joe', u'pesci', u's', u'character', u'ranted', u'that', u'he', u'wanted', u'people', u'to', u'know', u'it', u'is', u'he', u'who', u'is', u'supplying', u'drugs', u'etc', u'so', u'i', u'dunno', u'maybe', u'he', u'just', u'hates', u'mj', u's', u'music', u'lots', u'of', u'cool', u'things', u'in', u'this', u'like', u'mj', u'turning', u'into', u'a', u'car', u'and', u'a', u'robot', u'and', u'the', u'whole', u'speed', u'demon', u'sequence', u'also', u'the', u'director', u'must', u'have', u'had', u'the', u'patience', u'of', u'a', u'saint', u'when', u'it', u'came', u'to', u'filming', u'the', u'kiddy', u'bad', u'sequence', u'as', u'usually', u'directors', u'hate', u'working', u'with', u'one', u'kid', u'let', u'alone', u'a', u'whole', u'bunch', u'of', u'them', u'performing', u'a', u'complex', u'dance', u'scene', u'bottom', u'line', u'this', u'movie', u'is', u'for', u'people', u'who', u'like', u'mj', u'on', u'one', u'level', u'or', u'another', u'which', u'i', u'think', u'is', u'most', u'people', u'if', u'not', u'then', u'stay', u'away', u'it', u'does', u'try', u'and', u'give', u'off', u'a', u'wholesome', u'message', u'and', u'ironically', u'mj', u's', u'bestest', u'buddy', u'in', u'this', u'movie', u'is', u'a', u'girl', u'michael', u'jackson', u'is', u'truly', u'one', u'of', u'the', u'most', u'talented', u'people', u'ever', u'to', u'grace', u'this', u'planet', u'but', u'is', u'he', u'guilty', u'well', u'with', u'all', u'the', u'attention', u'i', u've', u'gave', u'this', u'subject', u'hmmm', u'well', u'i', u'don', u't', u'know', u'because', u'people', u'can', u'be', u'different', u'behind', u'closed', u'doors', u'i', u'know', u'this', u'for', u'a', u'fact', u'he', u'is', u'either', u'an', u'extremely', u'nice', u'but', u'stupid', u'guy', u'or', u'one', u'of', u'the', u'most', u'sickest', u'liars', u'i', u'hope', u'he', u'is', u'not', u'the', u'latter']\n"
     ]
    }
   ],
   "source": [
    "example1 = review_to_wordlist(train[\"review\"][0])\n",
    "print example1"
   ]
  },
  {
   "cell_type": "markdown",
   "metadata": {
    "deletable": true,
    "editable": true
   },
   "source": [
    "First, to train Word2Vec it is better not to remove stop words because the algorithm relies on the broader context of the sentence in order to produce high-quality word vectors. For this reason, we will make stop word removal optional in the functions below. It also might be better not to remove numbers."
   ]
  },
  {
   "cell_type": "markdown",
   "metadata": {
    "deletable": true,
    "editable": true
   },
   "source": [
    "Word2Vec expects single sentences, each one as a list of words. In other words, the input format is a list of lists.\n",
    "It is not at all straightforward how to split a paragraph into sentences. There are all kinds of gotchas in natural language. English sentences can end with \"?\", \"!\", \"\"\", or \".\", among other things, and spacing and capitalization are not reliable guides either. For this reason, we'll use NLTK's punkt tokenizer for sentence splitting."
   ]
  },
  {
   "cell_type": "code",
   "execution_count": 6,
   "metadata": {
    "collapsed": false,
    "deletable": true,
    "editable": true
   },
   "outputs": [
    {
     "name": "stdout",
     "output_type": "stream",
     "text": [
      "showing info https://raw.githubusercontent.com/nltk/nltk_data/gh-pages/index.xml\n"
     ]
    },
    {
     "data": {
      "text/plain": [
       "True"
      ]
     },
     "execution_count": 6,
     "metadata": {},
     "output_type": "execute_result"
    }
   ],
   "source": [
    "import nltk.data\n",
    "nltk.download()"
   ]
  },
  {
   "cell_type": "code",
   "execution_count": 26,
   "metadata": {
    "collapsed": true,
    "deletable": true,
    "editable": true
   },
   "outputs": [],
   "source": [
    "# Load the punkt tokenizer\n",
    "tokenizer = nltk.data.load('tokenizers/punkt/english.pickle')\n",
    "\n",
    "# Define a function to split a review into parsed sentences\n",
    "def review_to_sentences( review, tokenizer, remove_stopwords=False ):\n",
    "    # Function to split a review into parsed sentences. Returns a list of sentences, where \n",
    "    # each sentence is a list of words\n",
    "    #\n",
    "    # Use the NLTK tokenizer to split the paragraph into sentences\n",
    "    raw_sentences = tokenizer.tokenize(review.strip())\n",
    "    #\n",
    "    sentences = []\n",
    "    #\n",
    "    for raw_sentence in raw_sentences:\n",
    "        # If a sentence is empty, skip it\n",
    "        if len(raw_sentence) > 0:\n",
    "            # Otherwise, call review_to_wordlist to get a list of words\n",
    "            sentences.append(review_to_wordlist(raw_sentence, remove_stopwords))\n",
    "    #\n",
    "    return sentences"
   ]
  },
  {
   "cell_type": "code",
   "execution_count": 27,
   "metadata": {
    "collapsed": false,
    "deletable": true,
    "editable": true
   },
   "outputs": [
    {
     "name": "stdout",
     "output_type": "stream",
     "text": [
      "[[u'i', u'totally', u'agree', u'that', u'nothing', u'is', u'a', u'fantastic', u'film'], [u'i', u've', u'not', u'laughed', u'so', u'much', u'when', u'watching', u'a', u'film', u'for', u'ages'], [u'and', u'david', u'hewlett', u'and', u'andrew', u'miller', u'are', u'fantastic', u'in', u'this'], [u'they', u'really', u'work', u'well', u'together'], [u'this', u'film', u'may', u'not', u'appeal', u'to', u'some', u'people', u'i', u'can', u't', u'really', u'say', u'why', u'without', u'spoiling', u'it'], [u'but', u'each', u'to', u'their', u'own'], [u'i', u'loved', u'it', u'and', u'highly', u'recommend', u'it', u'the', u'directing', u'is', u'great', u'and', u'some', u'of', u'the', u'shots', u'are', u'very', u'clever'], [u'it', u'looks', u'as', u'though', u'they', u'may', u'have', u'had', u'a', u'lot', u'of', u'fun', u'when', u'filming', u'it', u'although', u'there', u'are', u'really', u'only', u'main', u'characters', u'in', u'the', u'film', u'and', u'not', u'an', u'awful', u'lot', u'of', u'props', u'the', u'actors', u'manage', u'to', u'pull', u'it', u'off', u'and', u'make', u'the', u'film', u'enjoyable', u'to', u'watch']]\n"
     ]
    }
   ],
   "source": [
    "example2 = review_to_sentences(train[\"review\"][88], tokenizer)\n",
    "print example2"
   ]
  },
  {
   "cell_type": "code",
   "execution_count": 28,
   "metadata": {
    "collapsed": false,
    "deletable": true,
    "editable": true
   },
   "outputs": [
    {
     "name": "stderr",
     "output_type": "stream",
     "text": [
      "/usr/lib/python2.7/dist-packages/bs4/__init__.py:219: UserWarning: \".\" looks like a filename, not markup. You shouldprobably open this file and pass the filehandle intoBeautiful Soup.\n",
      "  'Beautiful Soup.' % markup)\n",
      "/usr/lib/python2.7/dist-packages/bs4/__init__.py:282: UserWarning: \"http://www.happierabroad.com\"\" looks like a URL. Beautiful Soup is not an HTTP client. You should probably use an HTTP client like requests to get the document behind the URL, and feed that document to Beautiful Soup.\n",
      "  ' that document to Beautiful Soup.' % decoded_markup\n",
      "/usr/lib/python2.7/dist-packages/bs4/__init__.py:282: UserWarning: \"http://www.archive.org/details/LovefromaStranger\"\" looks like a URL. Beautiful Soup is not an HTTP client. You should probably use an HTTP client like requests to get the document behind the URL, and feed that document to Beautiful Soup.\n",
      "  ' that document to Beautiful Soup.' % decoded_markup\n",
      "/usr/lib/python2.7/dist-packages/bs4/__init__.py:282: UserWarning: \"http://www.loosechangeguide.com/LooseChangeGuide.html\"\" looks like a URL. Beautiful Soup is not an HTTP client. You should probably use an HTTP client like requests to get the document behind the URL, and feed that document to Beautiful Soup.\n",
      "  ' that document to Beautiful Soup.' % decoded_markup\n",
      "/usr/lib/python2.7/dist-packages/bs4/__init__.py:282: UserWarning: \"http://www.msnbc.msn.com/id/4972055/site/newsweek/\"\" looks like a URL. Beautiful Soup is not an HTTP client. You should probably use an HTTP client like requests to get the document behind the URL, and feed that document to Beautiful Soup.\n",
      "  ' that document to Beautiful Soup.' % decoded_markup\n",
      "/usr/lib/python2.7/dist-packages/bs4/__init__.py:219: UserWarning: \"..\" looks like a filename, not markup. You shouldprobably open this file and pass the filehandle intoBeautiful Soup.\n",
      "  'Beautiful Soup.' % markup)\n",
      "/usr/lib/python2.7/dist-packages/bs4/__init__.py:282: UserWarning: \"http://www.youtube.com/watch?v=a0KSqelmgN8\"\" looks like a URL. Beautiful Soup is not an HTTP client. You should probably use an HTTP client like requests to get the document behind the URL, and feed that document to Beautiful Soup.\n",
      "  ' that document to Beautiful Soup.' % decoded_markup\n",
      "/usr/lib/python2.7/dist-packages/bs4/__init__.py:282: UserWarning: \"http://jake-weird.blogspot.com/2007/08/beneath.html\"\" looks like a URL. Beautiful Soup is not an HTTP client. You should probably use an HTTP client like requests to get the document behind the URL, and feed that document to Beautiful Soup.\n",
      "  ' that document to Beautiful Soup.' % decoded_markup\n"
     ]
    }
   ],
   "source": [
    "sentences = []\n",
    "\n",
    "num_train = train[\"review\"].size\n",
    "num_unlabeled_train = unlabeled_train[\"review\"].size\n",
    "\n",
    "for i in xrange (0, num_train) :\n",
    "    review = train[\"review\"][i]\n",
    "    sentences += review_to_sentences(review, tokenizer)\n",
    "\n",
    "for i in xrange (0, num_unlabeled_train) :\n",
    "    review = unlabeled_train[\"review\"][i]\n",
    "    sentences += review_to_sentences(review, tokenizer)"
   ]
  },
  {
   "cell_type": "code",
   "execution_count": 29,
   "metadata": {
    "collapsed": false,
    "deletable": true,
    "editable": true
   },
   "outputs": [
    {
     "name": "stdout",
     "output_type": "stream",
     "text": [
      "795538\n"
     ]
    }
   ],
   "source": [
    "print len(sentences)"
   ]
  },
  {
   "cell_type": "code",
   "execution_count": 30,
   "metadata": {
    "collapsed": false,
    "deletable": true,
    "editable": true
   },
   "outputs": [
    {
     "name": "stdout",
     "output_type": "stream",
     "text": [
      "[u'with', u'all', u'this', u'stuff', u'going', u'down', u'at', u'the', u'moment', u'with', u'mj', u'i', u've', u'started', u'listening', u'to', u'his', u'music', u'watching', u'the', u'odd', u'documentary', u'here', u'and', u'there', u'watched', u'the', u'wiz', u'and', u'watched', u'moonwalker', u'again']\n"
     ]
    }
   ],
   "source": [
    "print sentences[0]"
   ]
  },
  {
   "cell_type": "code",
   "execution_count": 31,
   "metadata": {
    "collapsed": false,
    "deletable": true,
    "editable": true
   },
   "outputs": [
    {
     "name": "stdout",
     "output_type": "stream",
     "text": [
      "[u'maybe', u'i', u'just', u'want', u'to', u'get', u'a', u'certain', u'insight', u'into', u'this', u'guy', u'who', u'i', u'thought', u'was', u'really', u'cool', u'in', u'the', u'eighties', u'just', u'to', u'maybe', u'make', u'up', u'my', u'mind', u'whether', u'he', u'is', u'guilty', u'or', u'innocent']\n"
     ]
    }
   ],
   "source": [
    "print sentences[1]"
   ]
  },
  {
   "cell_type": "markdown",
   "metadata": {
    "deletable": true,
    "editable": true
   },
   "source": [
    "A minor detail to note is the difference between the \"+=\" and \"append\" when it comes to Python lists. In many applications the two are interchangeable, but here they are not. If you are appending a list of lists to another list of lists, \"append\" will only append the first list; you need to use \"+=\" in order to join all of the lists at once."
   ]
  },
  {
   "cell_type": "code",
   "execution_count": 32,
   "metadata": {
    "collapsed": false,
    "deletable": true,
    "editable": true
   },
   "outputs": [
    {
     "name": "stderr",
     "output_type": "stream",
     "text": [
      "2017-05-16 16:56:09,395 : INFO : 'pattern' package not found; tag filters are not available for English\n",
      "2017-05-16 16:56:09,397 : INFO : collecting all words and their counts\n",
      "2017-05-16 16:56:09,399 : INFO : PROGRESS: at sentence #0, processed 0 words, keeping 0 word types\n",
      "2017-05-16 16:56:09,489 : INFO : PROGRESS: at sentence #10000, processed 225803 words, keeping 17776 word types\n",
      "2017-05-16 16:56:09,579 : INFO : PROGRESS: at sentence #20000, processed 451892 words, keeping 24948 word types\n"
     ]
    },
    {
     "name": "stdout",
     "output_type": "stream",
     "text": [
      "Training model...\n"
     ]
    },
    {
     "name": "stderr",
     "output_type": "stream",
     "text": [
      "2017-05-16 16:56:09,664 : INFO : PROGRESS: at sentence #30000, processed 671315 words, keeping 30034 word types\n",
      "2017-05-16 16:56:09,733 : INFO : PROGRESS: at sentence #40000, processed 897815 words, keeping 34348 word types\n",
      "2017-05-16 16:56:09,804 : INFO : PROGRESS: at sentence #50000, processed 1116963 words, keeping 37761 word types\n",
      "2017-05-16 16:56:09,877 : INFO : PROGRESS: at sentence #60000, processed 1338404 words, keeping 40723 word types\n",
      "2017-05-16 16:56:09,953 : INFO : PROGRESS: at sentence #70000, processed 1561580 words, keeping 43333 word types\n",
      "2017-05-16 16:56:10,024 : INFO : PROGRESS: at sentence #80000, processed 1780887 words, keeping 45714 word types\n",
      "2017-05-16 16:56:10,078 : INFO : PROGRESS: at sentence #90000, processed 2004996 words, keeping 48135 word types\n",
      "2017-05-16 16:56:10,154 : INFO : PROGRESS: at sentence #100000, processed 2226966 words, keeping 50207 word types\n",
      "2017-05-16 16:56:10,217 : INFO : PROGRESS: at sentence #110000, processed 2446580 words, keeping 52081 word types\n",
      "2017-05-16 16:56:10,279 : INFO : PROGRESS: at sentence #120000, processed 2668775 words, keeping 54119 word types\n",
      "2017-05-16 16:56:10,347 : INFO : PROGRESS: at sentence #130000, processed 2894303 words, keeping 55847 word types\n",
      "2017-05-16 16:56:10,396 : INFO : PROGRESS: at sentence #140000, processed 3107005 words, keeping 57346 word types\n",
      "2017-05-16 16:56:10,461 : INFO : PROGRESS: at sentence #150000, processed 3332627 words, keeping 59055 word types\n",
      "2017-05-16 16:56:10,545 : INFO : PROGRESS: at sentence #160000, processed 3555315 words, keeping 60617 word types\n",
      "2017-05-16 16:56:10,629 : INFO : PROGRESS: at sentence #170000, processed 3778655 words, keeping 62077 word types\n",
      "2017-05-16 16:56:10,714 : INFO : PROGRESS: at sentence #180000, processed 3999236 words, keeping 63496 word types\n",
      "2017-05-16 16:56:10,794 : INFO : PROGRESS: at sentence #190000, processed 4224449 words, keeping 64794 word types\n",
      "2017-05-16 16:56:10,879 : INFO : PROGRESS: at sentence #200000, processed 4448603 words, keeping 66087 word types\n",
      "2017-05-16 16:56:10,939 : INFO : PROGRESS: at sentence #210000, processed 4669967 words, keeping 67390 word types\n",
      "2017-05-16 16:56:10,997 : INFO : PROGRESS: at sentence #220000, processed 4894968 words, keeping 68697 word types\n",
      "2017-05-16 16:56:11,074 : INFO : PROGRESS: at sentence #230000, processed 5117545 words, keeping 69958 word types\n",
      "2017-05-16 16:56:11,163 : INFO : PROGRESS: at sentence #240000, processed 5345050 words, keeping 71167 word types\n",
      "2017-05-16 16:56:11,218 : INFO : PROGRESS: at sentence #250000, processed 5559165 words, keeping 72351 word types\n",
      "2017-05-16 16:56:11,301 : INFO : PROGRESS: at sentence #260000, processed 5779146 words, keeping 73478 word types\n",
      "2017-05-16 16:56:11,376 : INFO : PROGRESS: at sentence #270000, processed 6000435 words, keeping 74767 word types\n",
      "2017-05-16 16:56:11,442 : INFO : PROGRESS: at sentence #280000, processed 6226314 words, keeping 76369 word types\n",
      "2017-05-16 16:56:11,510 : INFO : PROGRESS: at sentence #290000, processed 6449474 words, keeping 77839 word types\n",
      "2017-05-16 16:56:11,581 : INFO : PROGRESS: at sentence #300000, processed 6674077 words, keeping 79171 word types\n",
      "2017-05-16 16:56:11,649 : INFO : PROGRESS: at sentence #310000, processed 6899391 words, keeping 80480 word types\n",
      "2017-05-16 16:56:11,730 : INFO : PROGRESS: at sentence #320000, processed 7124278 words, keeping 81808 word types\n",
      "2017-05-16 16:56:11,813 : INFO : PROGRESS: at sentence #330000, processed 7346021 words, keeping 83030 word types\n",
      "2017-05-16 16:56:11,899 : INFO : PROGRESS: at sentence #340000, processed 7575533 words, keeping 84280 word types\n",
      "2017-05-16 16:56:11,974 : INFO : PROGRESS: at sentence #350000, processed 7798803 words, keeping 85425 word types\n",
      "2017-05-16 16:56:12,033 : INFO : PROGRESS: at sentence #360000, processed 8019427 words, keeping 86596 word types\n",
      "2017-05-16 16:56:12,105 : INFO : PROGRESS: at sentence #370000, processed 8246619 words, keeping 87708 word types\n",
      "2017-05-16 16:56:12,182 : INFO : PROGRESS: at sentence #380000, processed 8471766 words, keeping 88878 word types\n",
      "2017-05-16 16:56:12,251 : INFO : PROGRESS: at sentence #390000, processed 8701497 words, keeping 89907 word types\n",
      "2017-05-16 16:56:12,303 : INFO : PROGRESS: at sentence #400000, processed 8924446 words, keeping 90916 word types\n",
      "2017-05-16 16:56:12,376 : INFO : PROGRESS: at sentence #410000, processed 9145796 words, keeping 91880 word types\n",
      "2017-05-16 16:56:12,456 : INFO : PROGRESS: at sentence #420000, processed 9366876 words, keeping 92912 word types\n",
      "2017-05-16 16:56:12,537 : INFO : PROGRESS: at sentence #430000, processed 9594413 words, keeping 93932 word types\n",
      "2017-05-16 16:56:12,629 : INFO : PROGRESS: at sentence #440000, processed 9821166 words, keeping 94906 word types\n",
      "2017-05-16 16:56:12,702 : INFO : PROGRESS: at sentence #450000, processed 10044928 words, keeping 96036 word types\n",
      "2017-05-16 16:56:12,769 : INFO : PROGRESS: at sentence #460000, processed 10277688 words, keeping 97088 word types\n",
      "2017-05-16 16:56:12,859 : INFO : PROGRESS: at sentence #470000, processed 10505613 words, keeping 97933 word types\n",
      "2017-05-16 16:56:12,946 : INFO : PROGRESS: at sentence #480000, processed 10725997 words, keeping 98862 word types\n",
      "2017-05-16 16:56:13,036 : INFO : PROGRESS: at sentence #490000, processed 10952741 words, keeping 99871 word types\n",
      "2017-05-16 16:56:13,123 : INFO : PROGRESS: at sentence #500000, processed 11174397 words, keeping 100765 word types\n",
      "2017-05-16 16:56:13,207 : INFO : PROGRESS: at sentence #510000, processed 11399672 words, keeping 101699 word types\n",
      "2017-05-16 16:56:13,298 : INFO : PROGRESS: at sentence #520000, processed 11623020 words, keeping 102598 word types\n",
      "2017-05-16 16:56:13,376 : INFO : PROGRESS: at sentence #530000, processed 11847418 words, keeping 103400 word types\n",
      "2017-05-16 16:56:13,465 : INFO : PROGRESS: at sentence #540000, processed 12072033 words, keeping 104265 word types\n",
      "2017-05-16 16:56:13,555 : INFO : PROGRESS: at sentence #550000, processed 12297571 words, keeping 105133 word types\n",
      "2017-05-16 16:56:13,644 : INFO : PROGRESS: at sentence #560000, processed 12518861 words, keeping 105997 word types\n",
      "2017-05-16 16:56:13,710 : INFO : PROGRESS: at sentence #570000, processed 12747916 words, keeping 106787 word types\n",
      "2017-05-16 16:56:13,769 : INFO : PROGRESS: at sentence #580000, processed 12969412 words, keeping 107665 word types\n",
      "2017-05-16 16:56:13,844 : INFO : PROGRESS: at sentence #590000, processed 13194937 words, keeping 108501 word types\n",
      "2017-05-16 16:56:13,931 : INFO : PROGRESS: at sentence #600000, processed 13417135 words, keeping 109218 word types\n",
      "2017-05-16 16:56:14,018 : INFO : PROGRESS: at sentence #610000, processed 13638158 words, keeping 110092 word types\n",
      "2017-05-16 16:56:14,103 : INFO : PROGRESS: at sentence #620000, processed 13864483 words, keeping 110837 word types\n",
      "2017-05-16 16:56:14,177 : INFO : PROGRESS: at sentence #630000, processed 14088769 words, keeping 111610 word types\n",
      "2017-05-16 16:56:14,249 : INFO : PROGRESS: at sentence #640000, processed 14309552 words, keeping 112416 word types\n",
      "2017-05-16 16:56:14,321 : INFO : PROGRESS: at sentence #650000, processed 14535308 words, keeping 113196 word types\n",
      "2017-05-16 16:56:14,406 : INFO : PROGRESS: at sentence #660000, processed 14758098 words, keeping 113945 word types\n",
      "2017-05-16 16:56:14,486 : INFO : PROGRESS: at sentence #670000, processed 14981482 words, keeping 114643 word types\n",
      "2017-05-16 16:56:14,557 : INFO : PROGRESS: at sentence #680000, processed 15206314 words, keeping 115354 word types\n",
      "2017-05-16 16:56:14,629 : INFO : PROGRESS: at sentence #690000, processed 15428507 words, keeping 116131 word types\n",
      "2017-05-16 16:56:14,707 : INFO : PROGRESS: at sentence #700000, processed 15657213 words, keeping 116943 word types\n",
      "2017-05-16 16:56:14,792 : INFO : PROGRESS: at sentence #710000, processed 15880202 words, keeping 117596 word types\n",
      "2017-05-16 16:56:14,878 : INFO : PROGRESS: at sentence #720000, processed 16105489 words, keeping 118221 word types\n",
      "2017-05-16 16:56:14,968 : INFO : PROGRESS: at sentence #730000, processed 16331870 words, keeping 118954 word types\n",
      "2017-05-16 16:56:15,059 : INFO : PROGRESS: at sentence #740000, processed 16552903 words, keeping 119668 word types\n",
      "2017-05-16 16:56:15,142 : INFO : PROGRESS: at sentence #750000, processed 16771230 words, keeping 120295 word types\n",
      "2017-05-16 16:56:15,200 : INFO : PROGRESS: at sentence #760000, processed 16990622 words, keeping 120930 word types\n",
      "2017-05-16 16:56:15,270 : INFO : PROGRESS: at sentence #770000, processed 17217759 words, keeping 121703 word types\n",
      "2017-05-16 16:56:15,338 : INFO : PROGRESS: at sentence #780000, processed 17447905 words, keeping 122402 word types\n",
      "2017-05-16 16:56:15,430 : INFO : PROGRESS: at sentence #790000, processed 17674981 words, keeping 123066 word types\n",
      "2017-05-16 16:56:15,481 : INFO : collected 123504 word types from a corpus of 17798082 raw words and 795538 sentences\n",
      "2017-05-16 16:56:15,481 : INFO : Loading a fresh vocabulary\n",
      "2017-05-16 16:56:16,095 : INFO : min_count=40 retains 16490 unique words (13% of original 123504, drops 107014)\n",
      "2017-05-16 16:56:16,096 : INFO : min_count=40 leaves 17238940 word corpus (96% of original 17798082, drops 559142)\n",
      "2017-05-16 16:56:16,140 : INFO : deleting the raw counts dictionary of 123504 items\n",
      "2017-05-16 16:56:16,144 : INFO : sample=0.001 downsamples 48 most-common words\n",
      "2017-05-16 16:56:16,145 : INFO : downsampling leaves estimated 12749658 word corpus (74.0% of prior 17238940)\n",
      "2017-05-16 16:56:16,146 : INFO : estimated required memory for 16490 words and 300 dimensions: 47821000 bytes\n",
      "2017-05-16 16:56:16,192 : INFO : resetting layer weights\n",
      "2017-05-16 16:56:16,482 : INFO : training model with 4 workers on 16490 vocabulary and 300 features, using sg=0 hs=0 sample=0.001 negative=5 window=10\n",
      "2017-05-16 16:56:17,503 : INFO : PROGRESS: at 0.60% examples, 379428 words/s, in_qsize 8, out_qsize 0\n",
      "2017-05-16 16:56:18,507 : INFO : PROGRESS: at 1.42% examples, 445328 words/s, in_qsize 7, out_qsize 0\n",
      "2017-05-16 16:56:19,520 : INFO : PROGRESS: at 2.36% examples, 492279 words/s, in_qsize 8, out_qsize 0\n",
      "2017-05-16 16:56:20,523 : INFO : PROGRESS: at 3.10% examples, 486992 words/s, in_qsize 8, out_qsize 0\n",
      "2017-05-16 16:56:21,527 : INFO : PROGRESS: at 3.74% examples, 469382 words/s, in_qsize 8, out_qsize 0\n",
      "2017-05-16 16:56:22,534 : INFO : PROGRESS: at 4.52% examples, 472866 words/s, in_qsize 8, out_qsize 0\n",
      "2017-05-16 16:56:23,566 : INFO : PROGRESS: at 5.41% examples, 483682 words/s, in_qsize 7, out_qsize 0\n",
      "2017-05-16 16:56:24,571 : INFO : PROGRESS: at 6.16% examples, 482726 words/s, in_qsize 8, out_qsize 0\n",
      "2017-05-16 16:56:25,575 : INFO : PROGRESS: at 7.11% examples, 495420 words/s, in_qsize 8, out_qsize 0\n",
      "2017-05-16 16:56:26,579 : INFO : PROGRESS: at 7.98% examples, 501359 words/s, in_qsize 8, out_qsize 0\n",
      "2017-05-16 16:56:27,584 : INFO : PROGRESS: at 8.81% examples, 503686 words/s, in_qsize 8, out_qsize 0\n",
      "2017-05-16 16:56:28,591 : INFO : PROGRESS: at 9.69% examples, 508438 words/s, in_qsize 8, out_qsize 0\n",
      "2017-05-16 16:56:29,592 : INFO : PROGRESS: at 10.64% examples, 516023 words/s, in_qsize 8, out_qsize 0\n",
      "2017-05-16 16:56:30,606 : INFO : PROGRESS: at 11.44% examples, 515440 words/s, in_qsize 8, out_qsize 0\n",
      "2017-05-16 16:56:31,618 : INFO : PROGRESS: at 12.30% examples, 518132 words/s, in_qsize 7, out_qsize 0\n",
      "2017-05-16 16:56:32,615 : INFO : PROGRESS: at 13.26% examples, 523510 words/s, in_qsize 8, out_qsize 0\n",
      "2017-05-16 16:56:33,620 : INFO : PROGRESS: at 14.20% examples, 527888 words/s, in_qsize 7, out_qsize 0\n",
      "2017-05-16 16:56:34,626 : INFO : PROGRESS: at 15.16% examples, 532496 words/s, in_qsize 8, out_qsize 0\n",
      "2017-05-16 16:56:35,630 : INFO : PROGRESS: at 16.12% examples, 536296 words/s, in_qsize 8, out_qsize 0\n",
      "2017-05-16 16:56:36,635 : INFO : PROGRESS: at 17.07% examples, 539730 words/s, in_qsize 8, out_qsize 0\n",
      "2017-05-16 16:56:37,643 : INFO : PROGRESS: at 18.02% examples, 543098 words/s, in_qsize 8, out_qsize 0\n",
      "2017-05-16 16:56:38,648 : INFO : PROGRESS: at 18.98% examples, 545563 words/s, in_qsize 8, out_qsize 0\n",
      "2017-05-16 16:56:39,653 : INFO : PROGRESS: at 19.92% examples, 548160 words/s, in_qsize 7, out_qsize 0\n",
      "2017-05-16 16:56:40,658 : INFO : PROGRESS: at 20.86% examples, 550213 words/s, in_qsize 7, out_qsize 0\n",
      "2017-05-16 16:56:41,662 : INFO : PROGRESS: at 21.81% examples, 552102 words/s, in_qsize 8, out_qsize 0\n",
      "2017-05-16 16:56:42,686 : INFO : PROGRESS: at 22.72% examples, 552406 words/s, in_qsize 8, out_qsize 0\n",
      "2017-05-16 16:56:43,711 : INFO : PROGRESS: at 23.66% examples, 553388 words/s, in_qsize 8, out_qsize 0\n",
      "2017-05-16 16:56:44,713 : INFO : PROGRESS: at 24.59% examples, 554534 words/s, in_qsize 7, out_qsize 0\n",
      "2017-05-16 16:56:45,721 : INFO : PROGRESS: at 25.44% examples, 553999 words/s, in_qsize 8, out_qsize 0\n",
      "2017-05-16 16:56:46,723 : INFO : PROGRESS: at 26.40% examples, 555722 words/s, in_qsize 8, out_qsize 0\n",
      "2017-05-16 16:56:47,729 : INFO : PROGRESS: at 27.36% examples, 557273 words/s, in_qsize 8, out_qsize 0\n",
      "2017-05-16 16:56:48,734 : INFO : PROGRESS: at 28.28% examples, 558066 words/s, in_qsize 8, out_qsize 0\n",
      "2017-05-16 16:56:49,735 : INFO : PROGRESS: at 29.19% examples, 558905 words/s, in_qsize 8, out_qsize 0\n",
      "2017-05-16 16:56:50,738 : INFO : PROGRESS: at 30.12% examples, 560092 words/s, in_qsize 8, out_qsize 0\n",
      "2017-05-16 16:56:51,740 : INFO : PROGRESS: at 31.06% examples, 561206 words/s, in_qsize 7, out_qsize 0\n",
      "2017-05-16 16:56:52,747 : INFO : PROGRESS: at 31.98% examples, 561983 words/s, in_qsize 8, out_qsize 0\n",
      "2017-05-16 16:56:53,767 : INFO : PROGRESS: at 32.95% examples, 563099 words/s, in_qsize 8, out_qsize 0\n",
      "2017-05-16 16:56:54,771 : INFO : PROGRESS: at 33.86% examples, 563654 words/s, in_qsize 8, out_qsize 0\n",
      "2017-05-16 16:56:55,774 : INFO : PROGRESS: at 34.78% examples, 564208 words/s, in_qsize 8, out_qsize 0\n",
      "2017-05-16 16:56:56,789 : INFO : PROGRESS: at 35.74% examples, 565082 words/s, in_qsize 8, out_qsize 0\n",
      "2017-05-16 16:56:57,791 : INFO : PROGRESS: at 36.62% examples, 565050 words/s, in_qsize 8, out_qsize 0\n",
      "2017-05-16 16:56:58,792 : INFO : PROGRESS: at 37.48% examples, 564702 words/s, in_qsize 8, out_qsize 0\n",
      "2017-05-16 16:56:59,796 : INFO : PROGRESS: at 38.30% examples, 563663 words/s, in_qsize 8, out_qsize 0\n",
      "2017-05-16 16:57:00,799 : INFO : PROGRESS: at 39.18% examples, 563492 words/s, in_qsize 8, out_qsize 0\n",
      "2017-05-16 16:57:01,802 : INFO : PROGRESS: at 40.05% examples, 563327 words/s, in_qsize 8, out_qsize 0\n",
      "2017-05-16 16:57:02,826 : INFO : PROGRESS: at 40.93% examples, 563077 words/s, in_qsize 8, out_qsize 0\n",
      "2017-05-16 16:57:03,831 : INFO : PROGRESS: at 41.54% examples, 559268 words/s, in_qsize 8, out_qsize 0\n",
      "2017-05-16 16:57:04,834 : INFO : PROGRESS: at 42.08% examples, 554766 words/s, in_qsize 8, out_qsize 0\n",
      "2017-05-16 16:57:05,840 : INFO : PROGRESS: at 42.74% examples, 551880 words/s, in_qsize 8, out_qsize 0\n",
      "2017-05-16 16:57:06,847 : INFO : PROGRESS: at 43.62% examples, 551774 words/s, in_qsize 8, out_qsize 0\n",
      "2017-05-16 16:57:07,874 : INFO : PROGRESS: at 44.53% examples, 552027 words/s, in_qsize 8, out_qsize 0\n",
      "2017-05-16 16:57:08,911 : INFO : PROGRESS: at 45.43% examples, 552000 words/s, in_qsize 8, out_qsize 0\n",
      "2017-05-16 16:57:09,925 : INFO : PROGRESS: at 46.31% examples, 551960 words/s, in_qsize 8, out_qsize 0\n",
      "2017-05-16 16:57:10,948 : INFO : PROGRESS: at 46.91% examples, 548562 words/s, in_qsize 8, out_qsize 0\n",
      "2017-05-16 16:57:11,951 : INFO : PROGRESS: at 47.57% examples, 546238 words/s, in_qsize 8, out_qsize 0\n",
      "2017-05-16 16:57:12,966 : INFO : PROGRESS: at 48.35% examples, 545271 words/s, in_qsize 8, out_qsize 0\n",
      "2017-05-16 16:57:13,972 : INFO : PROGRESS: at 49.07% examples, 543692 words/s, in_qsize 8, out_qsize 0\n",
      "2017-05-16 16:57:14,977 : INFO : PROGRESS: at 49.68% examples, 541058 words/s, in_qsize 8, out_qsize 0\n",
      "2017-05-16 16:57:15,981 : INFO : PROGRESS: at 50.50% examples, 540706 words/s, in_qsize 8, out_qsize 0\n",
      "2017-05-16 16:57:16,990 : INFO : PROGRESS: at 51.38% examples, 541026 words/s, in_qsize 8, out_qsize 0\n",
      "2017-05-16 16:57:17,991 : INFO : PROGRESS: at 52.25% examples, 541396 words/s, in_qsize 8, out_qsize 0\n",
      "2017-05-16 16:57:19,012 : INFO : PROGRESS: at 53.14% examples, 541605 words/s, in_qsize 8, out_qsize 0\n",
      "2017-05-16 16:57:20,019 : INFO : PROGRESS: at 54.03% examples, 542027 words/s, in_qsize 8, out_qsize 0\n",
      "2017-05-16 16:57:21,022 : INFO : PROGRESS: at 54.93% examples, 542475 words/s, in_qsize 8, out_qsize 0\n",
      "2017-05-16 16:57:22,024 : INFO : PROGRESS: at 55.80% examples, 542697 words/s, in_qsize 8, out_qsize 0\n",
      "2017-05-16 16:57:23,028 : INFO : PROGRESS: at 56.68% examples, 542887 words/s, in_qsize 8, out_qsize 0\n",
      "2017-05-16 16:57:24,033 : INFO : PROGRESS: at 57.57% examples, 543284 words/s, in_qsize 8, out_qsize 0\n",
      "2017-05-16 16:57:25,036 : INFO : PROGRESS: at 58.26% examples, 541797 words/s, in_qsize 8, out_qsize 0\n",
      "2017-05-16 16:57:26,043 : INFO : PROGRESS: at 59.15% examples, 541977 words/s, in_qsize 8, out_qsize 0\n",
      "2017-05-16 16:57:27,048 : INFO : PROGRESS: at 59.95% examples, 541655 words/s, in_qsize 8, out_qsize 0\n",
      "2017-05-16 16:57:28,049 : INFO : PROGRESS: at 60.83% examples, 541873 words/s, in_qsize 8, out_qsize 0\n",
      "2017-05-16 16:57:29,056 : INFO : PROGRESS: at 61.46% examples, 539866 words/s, in_qsize 7, out_qsize 0\n",
      "2017-05-16 16:57:30,065 : INFO : PROGRESS: at 62.34% examples, 539945 words/s, in_qsize 8, out_qsize 0\n",
      "2017-05-16 16:57:31,070 : INFO : PROGRESS: at 63.24% examples, 540362 words/s, in_qsize 8, out_qsize 0\n",
      "2017-05-16 16:57:32,080 : INFO : PROGRESS: at 64.16% examples, 540802 words/s, in_qsize 8, out_qsize 0\n",
      "2017-05-16 16:57:33,084 : INFO : PROGRESS: at 65.02% examples, 540905 words/s, in_qsize 8, out_qsize 0\n",
      "2017-05-16 16:57:34,096 : INFO : PROGRESS: at 65.82% examples, 540379 words/s, in_qsize 8, out_qsize 0\n",
      "2017-05-16 16:57:35,113 : INFO : PROGRESS: at 66.51% examples, 538931 words/s, in_qsize 8, out_qsize 0\n",
      "2017-05-16 16:57:36,132 : INFO : PROGRESS: at 67.28% examples, 538134 words/s, in_qsize 7, out_qsize 0\n",
      "2017-05-16 16:57:37,139 : INFO : PROGRESS: at 67.86% examples, 536031 words/s, in_qsize 8, out_qsize 0\n",
      "2017-05-16 16:57:38,143 : INFO : PROGRESS: at 68.60% examples, 535220 words/s, in_qsize 8, out_qsize 0\n",
      "2017-05-16 16:57:39,150 : INFO : PROGRESS: at 69.49% examples, 535612 words/s, in_qsize 8, out_qsize 0\n",
      "2017-05-16 16:57:40,153 : INFO : PROGRESS: at 70.39% examples, 536033 words/s, in_qsize 8, out_qsize 0\n",
      "2017-05-16 16:57:41,153 : INFO : PROGRESS: at 71.27% examples, 536364 words/s, in_qsize 8, out_qsize 0\n",
      "2017-05-16 16:57:42,178 : INFO : PROGRESS: at 72.15% examples, 536622 words/s, in_qsize 8, out_qsize 0\n",
      "2017-05-16 16:57:43,182 : INFO : PROGRESS: at 73.02% examples, 536845 words/s, in_qsize 8, out_qsize 0\n",
      "2017-05-16 16:57:44,201 : INFO : PROGRESS: at 73.92% examples, 537132 words/s, in_qsize 8, out_qsize 0\n",
      "2017-05-16 16:57:45,214 : INFO : PROGRESS: at 74.81% examples, 537453 words/s, in_qsize 8, out_qsize 0\n",
      "2017-05-16 16:57:46,219 : INFO : PROGRESS: at 75.70% examples, 537724 words/s, in_qsize 7, out_qsize 0\n",
      "2017-05-16 16:57:47,247 : INFO : PROGRESS: at 76.60% examples, 537937 words/s, in_qsize 8, out_qsize 0\n",
      "2017-05-16 16:57:48,253 : INFO : PROGRESS: at 77.39% examples, 537562 words/s, in_qsize 8, out_qsize 0\n",
      "2017-05-16 16:57:49,253 : INFO : PROGRESS: at 78.26% examples, 537777 words/s, in_qsize 8, out_qsize 0\n",
      "2017-05-16 16:57:50,268 : INFO : PROGRESS: at 79.13% examples, 537758 words/s, in_qsize 8, out_qsize 0\n",
      "2017-05-16 16:57:51,274 : INFO : PROGRESS: at 80.00% examples, 538004 words/s, in_qsize 8, out_qsize 0\n",
      "2017-05-16 16:57:52,278 : INFO : PROGRESS: at 80.90% examples, 538342 words/s, in_qsize 8, out_qsize 0\n",
      "2017-05-16 16:57:53,283 : INFO : PROGRESS: at 81.81% examples, 538732 words/s, in_qsize 7, out_qsize 0\n",
      "2017-05-16 16:57:54,284 : INFO : PROGRESS: at 82.70% examples, 538928 words/s, in_qsize 7, out_qsize 0\n",
      "2017-05-16 16:57:55,287 : INFO : PROGRESS: at 83.57% examples, 539030 words/s, in_qsize 8, out_qsize 0\n",
      "2017-05-16 16:57:56,297 : INFO : PROGRESS: at 84.46% examples, 539226 words/s, in_qsize 7, out_qsize 0\n",
      "2017-05-16 16:57:57,308 : INFO : PROGRESS: at 85.35% examples, 539420 words/s, in_qsize 8, out_qsize 0\n",
      "2017-05-16 16:57:58,324 : INFO : PROGRESS: at 86.23% examples, 539504 words/s, in_qsize 8, out_qsize 0\n",
      "2017-05-16 16:57:59,328 : INFO : PROGRESS: at 87.02% examples, 539100 words/s, in_qsize 8, out_qsize 0\n",
      "2017-05-16 16:58:00,350 : INFO : PROGRESS: at 87.91% examples, 539234 words/s, in_qsize 8, out_qsize 0\n",
      "2017-05-16 16:58:01,356 : INFO : PROGRESS: at 88.77% examples, 539387 words/s, in_qsize 7, out_qsize 0\n",
      "2017-05-16 16:58:02,376 : INFO : PROGRESS: at 89.65% examples, 539512 words/s, in_qsize 8, out_qsize 0\n",
      "2017-05-16 16:58:03,380 : INFO : PROGRESS: at 90.53% examples, 539667 words/s, in_qsize 8, out_qsize 0\n",
      "2017-05-16 16:58:04,380 : INFO : PROGRESS: at 91.39% examples, 539763 words/s, in_qsize 8, out_qsize 0\n",
      "2017-05-16 16:58:05,385 : INFO : PROGRESS: at 92.25% examples, 539900 words/s, in_qsize 8, out_qsize 0\n",
      "2017-05-16 16:58:06,388 : INFO : PROGRESS: at 92.92% examples, 538879 words/s, in_qsize 8, out_qsize 0\n",
      "2017-05-16 16:58:07,395 : INFO : PROGRESS: at 93.81% examples, 539081 words/s, in_qsize 8, out_qsize 0\n",
      "2017-05-16 16:58:08,398 : INFO : PROGRESS: at 94.67% examples, 539169 words/s, in_qsize 8, out_qsize 0\n",
      "2017-05-16 16:58:09,421 : INFO : PROGRESS: at 95.29% examples, 537769 words/s, in_qsize 7, out_qsize 0\n",
      "2017-05-16 16:58:10,421 : INFO : PROGRESS: at 96.15% examples, 537882 words/s, in_qsize 8, out_qsize 0\n",
      "2017-05-16 16:58:11,441 : INFO : PROGRESS: at 97.05% examples, 538115 words/s, in_qsize 8, out_qsize 0\n",
      "2017-05-16 16:58:12,451 : INFO : PROGRESS: at 97.92% examples, 538205 words/s, in_qsize 8, out_qsize 0\n",
      "2017-05-16 16:58:13,468 : INFO : PROGRESS: at 98.76% examples, 538109 words/s, in_qsize 8, out_qsize 0\n",
      "2017-05-16 16:58:14,474 : INFO : PROGRESS: at 99.62% examples, 538184 words/s, in_qsize 7, out_qsize 0\n",
      "2017-05-16 16:58:14,908 : INFO : worker thread finished; awaiting finish of 3 more threads\n",
      "2017-05-16 16:58:14,930 : INFO : worker thread finished; awaiting finish of 2 more threads\n",
      "2017-05-16 16:58:14,946 : INFO : worker thread finished; awaiting finish of 1 more threads\n",
      "2017-05-16 16:58:14,947 : INFO : worker thread finished; awaiting finish of 0 more threads\n",
      "2017-05-16 16:58:14,948 : INFO : training on 88990410 raw words (63742636 effective words) took 118.5s, 538084 effective words/s\n",
      "2017-05-16 16:58:14,950 : INFO : precomputing L2-norms of word weight vectors\n",
      "2017-05-16 16:58:15,111 : INFO : saving Word2Vec object under 300features_40minwords_10context, separately None\n",
      "2017-05-16 16:58:15,112 : INFO : not storing attribute syn0norm\n",
      "2017-05-16 16:58:15,112 : INFO : not storing attribute cum_table\n",
      "2017-05-16 16:58:15,268 : INFO : saved 300features_40minwords_10context\n"
     ]
    }
   ],
   "source": [
    "#Import the built-in logging module and configure it so that Word2Vec creates nice output messages\n",
    "import logging\n",
    "logging.basicConfig(format='%(asctime)s : %(levelname)s : %(message)s',\\\n",
    "    level=logging.INFO)\n",
    "\n",
    "# Set values for various parameters\n",
    "num_features = 300    # Word vector dimensionality                      \n",
    "min_word_count = 40   # Minimum word count                        \n",
    "num_workers = 4       # Number of threads to run in parallel\n",
    "context = 10          # Context window size                                                \n",
    "downsampling = 1e-3   # Downsample setting for frequent words\n",
    "\n",
    "# Initialize and train the model (this will take some time)\n",
    "from gensim.models import word2vec\n",
    "\n",
    "model = word2vec.Word2Vec(sentences, workers=num_workers, \\\n",
    "            size=num_features, min_count = min_word_count, window = context, sample = downsampling)\n",
    "\n",
    "# If you don't plan to train the model any further, calling \n",
    "# init_sims will make the model much more memory-efficient.\n",
    "model.init_sims(replace=True)\n",
    "\n",
    "# It can be helpful to create a meaningful model name and \n",
    "# save the model for later use. You can load it later using Word2Vec.load()\n",
    "model_name = \"300features_40minwords_10context\"\n",
    "model.save(model_name)"
   ]
  },
  {
   "cell_type": "code",
   "execution_count": 33,
   "metadata": {
    "collapsed": false,
    "deletable": true,
    "editable": true
   },
   "outputs": [
    {
     "data": {
      "text/plain": [
       "'kitchen'"
      ]
     },
     "execution_count": 33,
     "metadata": {},
     "output_type": "execute_result"
    }
   ],
   "source": [
    "model.doesnt_match(\"man woman child kitchen\".split())"
   ]
  },
  {
   "cell_type": "code",
   "execution_count": 34,
   "metadata": {
    "collapsed": false,
    "deletable": true,
    "editable": true
   },
   "outputs": [
    {
     "data": {
      "text/plain": [
       "'berlin'"
      ]
     },
     "execution_count": 34,
     "metadata": {},
     "output_type": "execute_result"
    }
   ],
   "source": [
    "model.doesnt_match(\"france england germany berlin\".split())"
   ]
  },
  {
   "cell_type": "code",
   "execution_count": 35,
   "metadata": {
    "collapsed": false,
    "deletable": true,
    "editable": true
   },
   "outputs": [
    {
     "data": {
      "text/plain": [
       "'india'"
      ]
     },
     "execution_count": 35,
     "metadata": {},
     "output_type": "execute_result"
    }
   ],
   "source": [
    "model.doesnt_match(\"france england germany india\".split())"
   ]
  },
  {
   "cell_type": "code",
   "execution_count": 36,
   "metadata": {
    "collapsed": false,
    "deletable": true,
    "editable": true
   },
   "outputs": [
    {
     "data": {
      "text/plain": [
       "'usa'"
      ]
     },
     "execution_count": 36,
     "metadata": {},
     "output_type": "execute_result"
    }
   ],
   "source": [
    "model.doesnt_match(\"france england germany usa\".split())"
   ]
  },
  {
   "cell_type": "code",
   "execution_count": 37,
   "metadata": {
    "collapsed": false,
    "deletable": true,
    "editable": true
   },
   "outputs": [
    {
     "data": {
      "text/plain": [
       "'africa'"
      ]
     },
     "execution_count": 37,
     "metadata": {},
     "output_type": "execute_result"
    }
   ],
   "source": [
    "model.doesnt_match(\"france england germany africa\".split())"
   ]
  },
  {
   "cell_type": "code",
   "execution_count": 38,
   "metadata": {
    "collapsed": false,
    "deletable": true,
    "editable": true
   },
   "outputs": [
    {
     "data": {
      "text/plain": [
       "'book'"
      ]
     },
     "execution_count": 38,
     "metadata": {},
     "output_type": "execute_result"
    }
   ],
   "source": [
    "model.doesnt_match(\"song music singer book\".split())"
   ]
  },
  {
   "cell_type": "code",
   "execution_count": 39,
   "metadata": {
    "collapsed": false,
    "deletable": true,
    "editable": true
   },
   "outputs": [
    {
     "data": {
      "text/plain": [
       "[(u'soundtrack', 0.787306547164917),\n",
       " (u'score', 0.637504518032074),\n",
       " (u'morricone', 0.6287072896957397),\n",
       " (u'songs', 0.6276789307594299),\n",
       " (u'lyrics', 0.6240704655647278),\n",
       " (u'orchestral', 0.6238418221473694),\n",
       " (u'synthesizer', 0.6187015175819397),\n",
       " (u'jazz', 0.6116681098937988),\n",
       " (u'ennio', 0.6111737489700317),\n",
       " (u'song', 0.5923397541046143)]"
      ]
     },
     "execution_count": 39,
     "metadata": {},
     "output_type": "execute_result"
    }
   ],
   "source": [
    "model.most_similar(\"music\")"
   ]
  },
  {
   "cell_type": "code",
   "execution_count": 40,
   "metadata": {
    "collapsed": false,
    "deletable": true,
    "editable": true
   },
   "outputs": [
    {
     "data": {
      "text/plain": [
       "[(u'bike', 0.7106708288192749),\n",
       " (u'motorcycle', 0.6618256568908691),\n",
       " (u'horses', 0.6596984267234802),\n",
       " (u'riding', 0.6471805572509766),\n",
       " (u'tree', 0.6452011466026306),\n",
       " (u'bird', 0.6373133659362793),\n",
       " (u'truck', 0.6297295093536377),\n",
       " (u'balloon', 0.6255552768707275),\n",
       " (u'river', 0.6116886734962463),\n",
       " (u'water', 0.6093629002571106)]"
      ]
     },
     "execution_count": 40,
     "metadata": {},
     "output_type": "execute_result"
    }
   ],
   "source": [
    "model.most_similar(\"horse\")"
   ]
  },
  {
   "cell_type": "code",
   "execution_count": 41,
   "metadata": {
    "collapsed": false,
    "deletable": true,
    "editable": true
   },
   "outputs": [
    {
     "data": {
      "text/plain": [
       "[(u'actress', 0.6310328841209412),\n",
       " (u'performer', 0.6063651442527771),\n",
       " (u'role', 0.5565111041069031),\n",
       " (u'comedian', 0.5470607280731201),\n",
       " (u'actors', 0.5256090760231018),\n",
       " (u'performance', 0.49989089369773865),\n",
       " (u'thespian', 0.48680776357650757),\n",
       " (u'villain', 0.4738970696926117),\n",
       " (u'artist', 0.4663490355014801),\n",
       " (u'talent', 0.45593005418777466)]"
      ]
     },
     "execution_count": 41,
     "metadata": {},
     "output_type": "execute_result"
    }
   ],
   "source": [
    "model.most_similar(\"actor\")"
   ]
  },
  {
   "cell_type": "code",
   "execution_count": 42,
   "metadata": {
    "collapsed": false,
    "deletable": true,
    "editable": true
   },
   "outputs": [
    {
     "data": {
      "text/plain": [
       "[(u'incredible', 0.7965898513793945),\n",
       " (u'awesome', 0.7597486972808838),\n",
       " (u'outstanding', 0.6929436922073364),\n",
       " (u'exceptional', 0.6924594044685364),\n",
       " (u'astonishing', 0.666450023651123),\n",
       " (u'fantastic', 0.6628136038780212),\n",
       " (u'excellent', 0.6491071581840515),\n",
       " (u'extraordinary', 0.6314650177955627),\n",
       " (u'astounding', 0.6270268559455872),\n",
       " (u'impressive', 0.6246229410171509)]"
      ]
     },
     "execution_count": 42,
     "metadata": {},
     "output_type": "execute_result"
    }
   ],
   "source": [
    "model.most_similar(\"amazing\")"
   ]
  },
  {
   "cell_type": "code",
   "execution_count": null,
   "metadata": {
    "collapsed": true,
    "deletable": true,
    "editable": true
   },
   "outputs": [],
   "source": []
  }
 ],
 "metadata": {
  "kernelspec": {
   "display_name": "Python 2",
   "language": "python",
   "name": "python2"
  },
  "language_info": {
   "codemirror_mode": {
    "name": "ipython",
    "version": 2
   },
   "file_extension": ".py",
   "mimetype": "text/x-python",
   "name": "python",
   "nbconvert_exporter": "python",
   "pygments_lexer": "ipython2",
   "version": "2.7.12+"
  }
 },
 "nbformat": 4,
 "nbformat_minor": 2
}
