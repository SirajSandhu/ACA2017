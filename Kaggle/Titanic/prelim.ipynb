{
 "cells": [
  {
   "cell_type": "markdown",
   "metadata": {
    "_active": false,
    "_cell_guid": "a692dfbb-d065-cf0e-84e3-b90034a32180",
    "_uuid": "eb7a2f0b0e48a11e5da53efe51b429d0596888ce",
    "deletable": true,
    "editable": true
   },
   "source": [
    "Kaggle Titanic Data Analysis"
   ]
  },
  {
   "cell_type": "code",
   "execution_count": null,
   "metadata": {
    "_active": false,
    "_cell_guid": "c5a4a380-451d-bc09-4d8a-31cfe6c67f66",
    "_uuid": "097b58d26b77c3576556b48c44d3a6b9aadc3a27",
    "collapsed": true,
    "deletable": true,
    "editable": true
   },
   "outputs": [],
   "source": [
    "# data analysis and wrangling\n",
    "import pandas as pd\n",
    "import numpy as np\n",
    "import random as rnd\n",
    "\n",
    "# visualization\n",
    "import seaborn as sns\n",
    "import matplotlib.pyplot as plt\n",
    "%matplotlib inline\n",
    "\n",
    "# machine learning\n",
    "from sklearn.linear_model import LogisticRegression\n",
    "from sklearn.svm import SVC, LinearSVC\n",
    "from sklearn.ensemble import RandomForestClassifier\n",
    "from sklearn.neighbors import KNeighborsClassifier\n",
    "from sklearn.naive_bayes import GaussianNB\n",
    "from sklearn.linear_model import Perceptron\n",
    "from sklearn.linear_model import SGDClassifier\n",
    "from sklearn.tree import DecisionTreeClassifier"
   ]
  },
  {
   "cell_type": "code",
   "execution_count": null,
   "metadata": {
    "_active": false,
    "_cell_guid": "c0fbf7b0-2fad-38dc-e902-6f2ad0ee3522",
    "_uuid": "2f18874761e8d424401492231959d149bed0f831",
    "collapsed": true,
    "deletable": true,
    "editable": true
   },
   "outputs": [],
   "source": [
    "train_df = pd.read_csv('../input/train.csv')\n",
    "test_df = pd.read_csv('../input/test.csv')\n",
    "combine = [train_df, test_df]"
   ]
  },
  {
   "cell_type": "code",
   "execution_count": null,
   "metadata": {
    "_active": false,
    "_cell_guid": "f4d74157-5169-b018-86b4-4a3e00cbe762",
    "_uuid": "cf2ec68b3e16215903b0394f756bc4383c463824",
    "collapsed": true,
    "deletable": true,
    "editable": true
   },
   "outputs": [],
   "source": [
    "print(train_df.columns)"
   ]
  },
  {
   "cell_type": "code",
   "execution_count": null,
   "metadata": {
    "_active": false,
    "_cell_guid": "09f3a101-30c3-4161-9ed1-ef97e225e591",
    "_uuid": "4172c3a6c7a8a563ab25891b735f070a6f44ca71",
    "collapsed": true,
    "deletable": true,
    "editable": true
   },
   "outputs": [],
   "source": [
    "print(train_df.columns.values)"
   ]
  },
  {
   "cell_type": "code",
   "execution_count": null,
   "metadata": {
    "_active": false,
    "_cell_guid": "1471d40e-0427-f475-7138-f7983105600b",
    "_uuid": "66106c64d57cb58ae2ec26cfaf1d465babead012",
    "collapsed": true,
    "deletable": true,
    "editable": true
   },
   "outputs": [],
   "source": [
    "#preview the data\n",
    "train_df.head()"
   ]
  },
  {
   "cell_type": "code",
   "execution_count": null,
   "metadata": {
    "_active": false,
    "_cell_guid": "910edeac-df60-367d-46a6-8013ba08b38e",
    "_uuid": "02429c12018cd87316d43ff910756f30aa09f7d7",
    "collapsed": true,
    "deletable": true,
    "editable": true
   },
   "outputs": [],
   "source": [
    "#preview the data\n",
    "train_df.tail()"
   ]
  },
  {
   "cell_type": "code",
   "execution_count": null,
   "metadata": {
    "_active": false,
    "_cell_guid": "42d0a5e6-57b7-7c2f-35c6-a6e9c6613286",
    "_uuid": "828bb245a79d3ffface6c8b22e0513ec10a396ed",
    "collapsed": true,
    "deletable": true,
    "editable": true
   },
   "outputs": [],
   "source": [
    "train_df.info()"
   ]
  },
  {
   "cell_type": "markdown",
   "metadata": {
    "_active": false,
    "_cell_guid": "4d083d85-5f86-b85d-f87f-bf957cd9eb63",
    "_uuid": "8874077e98a98ab612bccb0b1712980abeb4a706",
    "deletable": true,
    "editable": true
   },
   "source": [
    "require correction : cabin, age, embarked  "
   ]
  },
  {
   "cell_type": "code",
   "execution_count": null,
   "metadata": {
    "_active": false,
    "_cell_guid": "5d6ec217-5617-e94b-57e5-626c961c87ed",
    "_uuid": "b01ccbb8f199a65032d21b872a7cf3a5297bbe80",
    "collapsed": true,
    "deletable": true,
    "editable": true
   },
   "outputs": [],
   "source": [
    "train_df.describe()"
   ]
  },
  {
   "cell_type": "markdown",
   "metadata": {
    "_active": false,
    "_cell_guid": "1408e574-aafe-cfa9-3307-e8b6aafd5e71",
    "_uuid": "83d2a015288788999e379378c515c603857ee48a",
    "deletable": true,
    "editable": true
   },
   "source": [
    "survival rate : 38.38%  \n",
    ">75% of passengers did not travel with parents or children  \n",
    ">50% of passengers did not travel with siblings or spouses  "
   ]
  },
  {
   "cell_type": "markdown",
   "metadata": {
    "_active": false,
    "_cell_guid": "4d8cfe90-e65f-c406-7a2b-20ace7493e8d",
    "_uuid": "61b879b89bdd66e11189458f001448004b9b54b8",
    "deletable": true,
    "editable": true
   },
   "source": [
    "Data Manipulation :  \n",
    "Completing : Age, Embarked  \n",
    "Removing : Ticket, Cabin, PassengerId, Name  \n",
    "Creating : Age bands, Family = SibSp + Parch, Fare range"
   ]
  },
  {
   "cell_type": "code",
   "execution_count": null,
   "metadata": {
    "_active": false,
    "_cell_guid": "71fb7660-2b6c-af42-5d40-4e0fec75b158",
    "_uuid": "b7c60b9a09221a2f091775f930c6e34e60c8062e",
    "collapsed": true,
    "deletable": true,
    "editable": true
   },
   "outputs": [],
   "source": [
    "train_df[['Pclass', 'Survived']].groupby(['Pclass'], \n",
    "                                  as_index=False).mean().sort_values(by='Survived', ascending=False)"
   ]
  },
  {
   "cell_type": "code",
   "execution_count": null,
   "metadata": {
    "_active": false,
    "_cell_guid": "f057cbc2-0d00-d414-052f-f5f3c5bc82b8",
    "_uuid": "a1a8ea5003f043535419b9173880bd90539951db",
    "collapsed": true,
    "deletable": true,
    "editable": true
   },
   "outputs": [],
   "source": [
    "train_df[[\"Sex\", \"Survived\"]].groupby(['Sex'], as_index=False).mean().sort_values(by='Survived', ascending=False)"
   ]
  },
  {
   "cell_type": "code",
   "execution_count": null,
   "metadata": {
    "_active": false,
    "_cell_guid": "f96727f2-17f1-ee75-413c-8ff066deac9d",
    "_uuid": "ca71b02933b7142e24ecce79c3105334befe3788",
    "collapsed": true,
    "deletable": true,
    "editable": true
   },
   "outputs": [],
   "source": [
    "train_df[[\"SibSp\", \"Survived\"]].groupby(['SibSp'], as_index=False).mean().sort_values(by='Survived', \n",
    "                                                                                      ascending=False)"
   ]
  },
  {
   "cell_type": "code",
   "execution_count": null,
   "metadata": {
    "_active": false,
    "_cell_guid": "0a810d39-ded1-40e2-8e87-d475af6ac804",
    "_uuid": "60724772efc93c61ea6d0aaae8422d53ac934535",
    "collapsed": true,
    "deletable": true,
    "editable": true
   },
   "outputs": [],
   "source": [
    "train_df[[\"Parch\", \"Survived\"]].groupby(['Parch'], as_index=False).mean().sort_values(by='Survived',\n",
    "                                                                                      ascending=False)"
   ]
  },
  {
   "cell_type": "markdown",
   "metadata": {
    "_active": false,
    "_cell_guid": "8f84e4c4-0789-100e-9a47-7ff34db15e3a",
    "_uuid": "b3a7dbbd99ac8c6625f4533e36093ab4c6d7c457",
    "deletable": true,
    "editable": true
   },
   "source": [
    "Pclass : high correlation  \n",
    "Sex : ----------\"----------  \n",
    "SibSp, Parch : zero correlation for some values => apparently needs to modified ----- ??"
   ]
  },
  {
   "cell_type": "code",
   "execution_count": null,
   "metadata": {
    "_active": false,
    "_cell_guid": "bd0f73b3-1394-c4b9-6a54-d2d4f288c7a8",
    "_uuid": "55ac15d9ed515e12f3d1e2ebe6e2261113ba7915",
    "collapsed": true,
    "deletable": true,
    "editable": true
   },
   "outputs": [],
   "source": [
    "g = sns.FacetGrid(train_df, col='Survived')\n",
    "g.map(plt.hist, 'Age', bins=20)"
   ]
  },
  {
   "cell_type": "markdown",
   "metadata": {
    "_active": false,
    "_cell_guid": "ba454f81-a20d-5e55-04d1-779dd9b94713",
    "_uuid": "9be91058efe132e58671012eaec02447b66477d0",
    "deletable": true,
    "editable": true
   },
   "source": [
    "Observations :  \n",
    "1. infants(<=4) had high survival rate  \n",
    "2. all old passengers (~80) survived  \n",
    "3. large number of 15-30 year olds did not survive  \n",
    "4. most of the passengers are in 15-35 range"
   ]
  },
  {
   "cell_type": "code",
   "execution_count": null,
   "metadata": {
    "_active": false,
    "_cell_guid": "45c72960-dd3e-65b9-4c7f-7b2980b9ff13",
    "_uuid": "cba6ace11a3274dd1559f03c6170c5265cbe298f",
    "collapsed": true,
    "deletable": true,
    "editable": true
   },
   "outputs": [],
   "source": [
    "# grid = sns.FacetGrid(train_df, col='Pclass', hue='Survived')\n",
    "grid = sns.FacetGrid(train_df, col='Survived', row='Pclass', size=2.2, aspect=1.6)\n",
    "grid.map(plt.hist, 'Age', alpha=.5, bins=20)\n",
    "grid.add_legend();\n",
    "\n",
    "#the histograms below have the Age on x axis"
   ]
  },
  {
   "cell_type": "markdown",
   "metadata": {
    "_active": false,
    "_cell_guid": "989328b2-aabc-d4c9-7ab2-ec1f45d7333e",
    "_uuid": "94ebfcaa09e417e479edc2858b3749973f668f35",
    "deletable": true,
    "editable": true
   },
   "source": [
    "Observations :  \n",
    "1. highest number of passengers in pclass=3; most did not survive  \n",
    "2. infants in pclass=2 and 3 mostly survived  \n",
    "3. most passengers of pclass=1 survived"
   ]
  },
  {
   "cell_type": "code",
   "execution_count": null,
   "metadata": {
    "_active": false,
    "_cell_guid": "569c74d1-c0da-e236-a6c5-318356e2f3bf",
    "_uuid": "40a304bc2262a6e573a824c419c2ce4f4e228e12",
    "collapsed": true,
    "deletable": true,
    "editable": true
   },
   "outputs": [],
   "source": [
    "# grid = sns.FacetGrid(train_df, col='Embarked')\n",
    "grid = sns.FacetGrid(train_df, row='Embarked', size=2.2, aspect=1.6)\n",
    "grid.map(sns.pointplot, 'Pclass', 'Survived', 'Sex', palette='deep')\n",
    "grid.add_legend()"
   ]
  },
  {
   "cell_type": "markdown",
   "metadata": {
    "_active": false,
    "_cell_guid": "86656080-1348-9bb4-4da1-cfb28a4964e2",
    "_uuid": "97ef70ddc08f8c2930a7ba37e6da3a8fcbb2c14f",
    "deletable": true,
    "editable": true
   },
   "source": [
    "Observations :  \n",
    " 1. Exception in Embarked=C where males had higher survival rate. This could be a correlation between Pclass and Embarked and in turn Pclass and Survived, not necessarily direct correlation between Embarked and Survived.  "
   ]
  },
  {
   "cell_type": "code",
   "execution_count": null,
   "metadata": {
    "_active": false,
    "_cell_guid": "5e1949be-1a4d-e484-5948-8df817d5d504",
    "_uuid": "22d48616a63ca4410b2ee3adb9e451cbab26d57b",
    "collapsed": true,
    "deletable": true,
    "editable": true
   },
   "outputs": [],
   "source": [
    "# grid = sns.FacetGrid(train_df, col='Embarked', hue='Survived', palette={0: 'k', 1: 'w'})\n",
    "grid = sns.FacetGrid(train_df, row='Embarked', col='Survived', size=2.2, aspect=1.6)\n",
    "grid.map(sns.barplot, 'Sex', 'Fare', alpha=.5, ci=None)\n",
    "grid.add_legend()"
   ]
  },
  {
   "cell_type": "markdown",
   "metadata": {
    "_active": false,
    "_cell_guid": "3e6994f0-64bf-9ee0-7e5f-2bc962919e17",
    "_uuid": "d097e4af273257408f656fcfa00cc93ba5546793",
    "deletable": true,
    "editable": true
   },
   "source": [
    "Observations :  \n",
    "1. Higher fare paying passengers had better survival.  \n",
    "2. Port of embarkation correlates with survival rates."
   ]
  },
  {
   "cell_type": "code",
   "execution_count": null,
   "metadata": {
    "_active": false,
    "_cell_guid": "3554525d-2503-08b9-8a5b-d537f163108c",
    "_uuid": "094458ac30e89f3338f29a97b9c92ce193f8bb83",
    "collapsed": true,
    "deletable": true,
    "editable": true
   },
   "outputs": [],
   "source": [
    "# Dropping features Cabin and Ticket\n",
    "print(\"Before\", train_df.shape, test_df.shape, combine[0].shape, combine[1].shape)\n",
    "\n",
    "train_df = train_df.drop(['Ticket', 'Cabin'], axis=1)\n",
    "test_df = test_df.drop(['Ticket', 'Cabin'], axis=1)\n",
    "combine = [train_df, test_df]\n",
    "\n",
    "\"After\", train_df.shape, test_df.shape, combine[0].shape, combine[1].shape"
   ]
  },
  {
   "cell_type": "markdown",
   "metadata": {
    "_active": false,
    "_cell_guid": "0b2f8fd5-c0dd-b2ce-77a2-c49e0816fcb8",
    "_uuid": "ffca0167f4472e348b42503aa344d65fe2ae13cb",
    "deletable": true,
    "editable": true
   },
   "source": [
    "We want to analyze if Name feature can be engineered to extract titles and test correlation between titles and survival, before dropping Name and PassengerId features."
   ]
  },
  {
   "cell_type": "code",
   "execution_count": null,
   "metadata": {
    "_active": false,
    "_cell_guid": "ef5ad6ea-5539-1e5c-1b13-f3d01adaec4e",
    "_uuid": "7ad609c72b4a0cbf9c7fa063958ca824ffb9ab1a",
    "collapsed": true,
    "deletable": true,
    "editable": true
   },
   "outputs": [],
   "source": [
    "#In the following code we extract Title feature using regular expressions. \n",
    "#The RegEx pattern (\\w+\\.) matches the first word which ends with a dot character within Name feature. \n",
    "#The expand=False flag returns a DataFrame.\n",
    "\n",
    "\n",
    "for dataset in combine:\n",
    "    dataset['Title'] = dataset.Name.str.extract(' ([A-Za-z]+)\\.', expand=False)\n",
    "\n",
    "pd.crosstab(train_df['Title'], train_df['Sex'])"
   ]
  },
  {
   "cell_type": "code",
   "execution_count": null,
   "metadata": {
    "_active": false,
    "_cell_guid": "48fa35c4-1350-713b-ef94-197dd49fb874",
    "_uuid": "b40ac180aee99dec4ed1035c4452aced7b408e55",
    "collapsed": true,
    "deletable": true,
    "editable": true
   },
   "outputs": [],
   "source": [
    "for dataset in combine:\n",
    "    dataset['Title'] = dataset['Title'].replace(['Lady', 'Countess','Capt', 'Col',\\\n",
    " \t'Don', 'Dr', 'Major', 'Rev', 'Sir', 'Jonkheer', 'Dona'], 'Rare')\n",
    "    #replace all the titles in list with 'Rare'\n",
    "\n",
    "    #grouping different titles referring to the same position\n",
    "    dataset['Title'] = dataset['Title'].replace('Mlle', 'Miss')\n",
    "    dataset['Title'] = dataset['Title'].replace('Ms', 'Miss')\n",
    "    dataset['Title'] = dataset['Title'].replace('Mme', 'Mrs')\n",
    "    \n",
    "train_df[['Title', 'Survived']].groupby(['Title'], as_index=False).mean()"
   ]
  },
  {
   "cell_type": "code",
   "execution_count": null,
   "metadata": {
    "_active": false,
    "_cell_guid": "92cc0217-3258-e9ea-d1fd-ba9e5ae19e92",
    "_uuid": "4836a94a0a15e2466fe4fb4d1776315cb1b3ded7",
    "collapsed": true,
    "deletable": true,
    "editable": true
   },
   "outputs": [],
   "source": [
    "# converting categorical feature, title, to ordinal feature\n",
    "\n",
    "title_mapping = {\"Mr\": 1, \"Miss\": 2, \"Mrs\": 3, \"Master\": 4, \"Rare\": 5}\n",
    "for dataset in combine:\n",
    "    dataset['Title'] = dataset['Title'].map(title_mapping)\n",
    "    dataset['Title'] = dataset['Title'].fillna(0)\n",
    "\n",
    "train_df.head()"
   ]
  },
  {
   "cell_type": "code",
   "execution_count": null,
   "metadata": {
    "_active": false,
    "_cell_guid": "68d09c30-741a-39e5-475d-c5f634943a01",
    "_uuid": "ea0f30c17d2cf68676e8e11a4ad890f1958db05c",
    "collapsed": true,
    "deletable": true,
    "editable": true
   },
   "outputs": [],
   "source": [
    "train_df = train_df.drop(['Name', 'PassengerId'], axis=1)\n",
    "test_df = test_df.drop(['Name'], axis=1)\n",
    "combine = [train_df, test_df]\n",
    "train_df.shape, test_df.shape"
   ]
  },
  {
   "cell_type": "code",
   "execution_count": null,
   "metadata": {
    "_active": false,
    "_cell_guid": "251d6395-9925-04cc-9ad4-f0c80302c2e1",
    "_uuid": "8509ee4b1dc1719886d99bbc8d5115c21cff3cae",
    "collapsed": true,
    "deletable": true,
    "editable": true
   },
   "outputs": [],
   "source": [
    "# mapping Sex : (M, F) -> (0, 1)\n",
    "\n",
    "for dataset in combine:\n",
    "    dataset['Sex'] = dataset['Sex'].map( {'female': 1, 'male': 0} ).astype(int)\n",
    "\n",
    "train_df.head()"
   ]
  },
  {
   "cell_type": "markdown",
   "metadata": {
    "_active": false,
    "_cell_guid": "2a66db1a-48ea-8497-bdca-06a10803b23a",
    "_uuid": "a4ac6f59e41aa00ff38f133d233d6f95d5319cf8",
    "deletable": true,
    "editable": true
   },
   "source": [
    "Completing a continuous numerical feature : Age  \n",
    "The possible methods are,  \n",
    "1. generate random numbers b/w mean and standard deviation  \n",
    "2. More accurate way of guessing missing values is to use other correlated features. In our case we note correlation among Age, Gender, and Pclass. Guess Age values using median values for Age across sets of Pclass and Gender feature combinations.  \n",
    "3. Combine methods 1 and 2. So instead of guessing age values based on median, use random numbers between mean and standard deviation, based on sets of Pclass and Gender combinations.  \n",
    " "
   ]
  },
  {
   "cell_type": "code",
   "execution_count": null,
   "metadata": {
    "_active": false,
    "_cell_guid": "534fa19f-e003-d5be-48f7-f9c4a906d223",
    "_uuid": "aa9fb4c402f71bdd521dc76e307bb42012163fe1",
    "collapsed": true,
    "deletable": true,
    "editable": true
   },
   "outputs": [],
   "source": [
    "# grid = sns.FacetGrid(train_df, col='Pclass', hue='Gender')\n",
    "grid = sns.FacetGrid(train_df, row='Pclass', col='Sex', size=2.2, aspect=1.6)\n",
    "grid.map(plt.hist, 'Age', alpha=.5, bins=20)\n",
    "grid.add_legend()"
   ]
  },
  {
   "cell_type": "code",
   "execution_count": null,
   "metadata": {
    "_active": false,
    "_cell_guid": "742c03d7-67db-83a7-23a8-ca280dab52b4",
    "_uuid": "a2df63c433679ea71d823ab707e0ce5fc457bbc7",
    "collapsed": true,
    "deletable": true,
    "editable": true
   },
   "outputs": [],
   "source": [
    "# creating an array to store the guessed ages\n",
    "# dim = sex x pclass : number of categories\n",
    "guess_ages = np.zeros((2,3))\n",
    "guess_ages"
   ]
  },
  {
   "cell_type": "code",
   "execution_count": null,
   "metadata": {
    "_active": true,
    "_cell_guid": "aa7e6dc6-11e3-698d-7acc-97c36daad4d4",
    "_uuid": "98bbe80e2d8f7d101ae37d8c994086b83dea0db6",
    "collapsed": true,
    "deletable": true,
    "editable": true
   },
   "outputs": [],
   "source": [
    "for dataset in combine:\n",
    "    for i in range(0, 2):\n",
    "        for j in range(0, 3):\n",
    "            guess_df = dataset[(dataset['Sex'] == i) & \\\n",
    "                                  (dataset['Pclass'] == j+1)]['Age'].dropna()\n",
    "\n",
    "            # age_mean = guess_df.mean()\n",
    "            # age_std = guess_df.std()\n",
    "            # age_guess = rnd.uniform(age_mean - age_std, age_mean + age_std)\n",
    "\n",
    "            age_guess = guess_df.median()\n",
    "\n",
    "            # Convert random age float to nearest .5 age\n",
    "            guess_ages[i,j] = int( age_guess/0.5 + 0.5 ) * 0.5\n",
    "            \n",
    "    for i in range(0, 2):\n",
    "        for j in range(0, 3):\n",
    "            dataset.loc[ (dataset.Age.isnull()) & (dataset.Sex == i) & (dataset.Pclass == j+1),\\\n",
    "                    'Age'] = guess_ages[i,j]\n",
    "\n",
    "    dataset['Age'] = dataset['Age'].astype(int)\n",
    "\n",
    "train_df.head()"
   ]
  },
  {
   "cell_type": "code",
   "execution_count": null,
   "metadata": {
    "_active": false,
    "_cell_guid": "48f4a294-e805-444b-6b3c-9af5f0b85ff4",
    "_uuid": "495cdef07a9107b16b269a1de38a879782de2554",
    "collapsed": true,
    "deletable": true,
    "editable": true
   },
   "outputs": [],
   "source": [
    "train_df['AgeBand'] = pd.cut(train_df['Age'], 5)\n",
    "train_df[['AgeBand', 'Survived']].groupby(['AgeBand'], as_index=False).mean().sort_values(by='AgeBand', \\\n",
    "                                                                                          ascending=True)"
   ]
  },
  {
   "cell_type": "code",
   "execution_count": null,
   "metadata": {
    "_active": false,
    "_cell_guid": "c3355c77-0889-dce3-299c-e83bf360f96c",
    "_uuid": "876707a45799dbbf5d1966133378d884e8b9ee72",
    "collapsed": true,
    "deletable": true,
    "editable": true
   },
   "outputs": [],
   "source": [
    "for dataset in combine:    \n",
    "    dataset.loc[ dataset['Age'] <= 16, 'Age'] = 0\n",
    "    dataset.loc[(dataset['Age'] > 16) & (dataset['Age'] <= 32), 'Age'] = 1\n",
    "    dataset.loc[(dataset['Age'] > 32) & (dataset['Age'] <= 48), 'Age'] = 2\n",
    "    dataset.loc[(dataset['Age'] > 48) & (dataset['Age'] <= 64), 'Age'] = 3\n",
    "    dataset.loc[ dataset['Age'] > 64, 'Age']\n",
    "train_df.head()"
   ]
  },
  {
   "cell_type": "code",
   "execution_count": null,
   "metadata": {
    "_active": false,
    "_cell_guid": "496999a5-fb56-579f-23bc-9cfb43fa544b",
    "_uuid": "5a267d9b1b8cc2e83d6fa4dca7cc895903e970b2",
    "collapsed": true,
    "deletable": true,
    "editable": true
   },
   "outputs": [],
   "source": [
    "train_df = train_df.drop(['AgeBand'], axis=1)\n",
    "combine = [train_df, test_df]\n",
    "train_df.head()"
   ]
  },
  {
   "cell_type": "code",
   "execution_count": null,
   "metadata": {
    "_active": false,
    "_cell_guid": "5882ee77-5b08-86a4-4d4c-365847cf4dd6",
    "_uuid": "0ae79cdd98b3e405e00aa24803c77c2c835ad8f1",
    "collapsed": true,
    "deletable": true,
    "editable": true
   },
   "outputs": [],
   "source": [
    "for dataset in combine:\n",
    "    dataset['FamilySize'] = dataset['SibSp'] + dataset['Parch'] + 1\n",
    "    # +1 = self\n",
    "\n",
    "train_df[['FamilySize', 'Survived']].groupby(['FamilySize'], as_index=False).mean().sort_values(by='Survived', \n",
    "                                                                                                ascending=False)"
   ]
  },
  {
   "cell_type": "code",
   "execution_count": null,
   "metadata": {
    "_active": false,
    "_cell_guid": "674d5e29-e2ec-bc36-402d-35977d983956",
    "_uuid": "f0f3c85951ea9e960bbc668510a08fcd74ca5ea6",
    "collapsed": true,
    "deletable": true,
    "editable": true
   },
   "outputs": [],
   "source": [
    "# new feature : IsAlone\n",
    "for dataset in combine:\n",
    "    dataset['IsAlone'] = 0\n",
    "    dataset.loc[dataset['FamilySize'] == 1, 'IsAlone'] = 1\n",
    "\n",
    "train_df[['IsAlone', 'Survived']].groupby(['IsAlone'], as_index=False).mean()"
   ]
  },
  {
   "cell_type": "code",
   "execution_count": null,
   "metadata": {
    "_active": false,
    "_cell_guid": "1c758a57-3b5f-e035-f4ad-4530e95cae2a",
    "_uuid": "bd5b57a4c634b82c61eb3d337b80d426987fa3df",
    "collapsed": true,
    "deletable": true,
    "editable": true
   },
   "outputs": [],
   "source": [
    "# dropping SibSp, Parch, FamilySize for IsAlone\n",
    "\n",
    "train_df = train_df.drop(['Parch', 'SibSp', 'FamilySize'], axis=1)\n",
    "test_df = test_df.drop(['Parch', 'SibSp', 'FamilySize'], axis=1)\n",
    "combine = [train_df, test_df]\n",
    "\n",
    "train_df.head()"
   ]
  },
  {
   "cell_type": "code",
   "execution_count": null,
   "metadata": {
    "_active": false,
    "_cell_guid": "5593b16f-7225-7aa2-6b1b-12372aac79cf",
    "_uuid": "f1ca0a46d440cb7299f6ff6b8eaf792d1bab6c01",
    "collapsed": true,
    "deletable": true,
    "editable": true
   },
   "outputs": [],
   "source": [
    "# creating new feature Age*Class  ------ ?????\n",
    "\n",
    "for dataset in combine:\n",
    "    dataset['Age*Class'] = dataset.Age * dataset.Pclass\n",
    "\n",
    "train_df.loc[:, ['Age*Class', 'Age', 'Pclass']].head(10)"
   ]
  },
  {
   "cell_type": "markdown",
   "metadata": {
    "_active": false,
    "_cell_guid": "67a66a6e-5554-6cba-ab92-a455b3c6a0d9",
    "_uuid": "639c60f45a14c1291c1b817545c2a0f0ffe2801a",
    "deletable": true,
    "editable": true
   },
   "source": [
    "Completing categorical feature : Embarked  \n",
    "-> fill with most common  occurrence <-"
   ]
  },
  {
   "cell_type": "code",
   "execution_count": null,
   "metadata": {
    "_active": false,
    "_cell_guid": "2a988c1f-2547-3fb0-0f97-448700aa46ef",
    "_uuid": "978300c0507caaebaf8938283b8e9b44a1603650",
    "collapsed": true,
    "deletable": true,
    "editable": true
   },
   "outputs": [],
   "source": [
    "freq_port = train_df.Embarked.dropna().mode()[0]\n",
    "# replacing even the missing data in test_df with mode of train_df\n",
    "\n",
    "for dataset in combine:\n",
    "    dataset['Embarked'] = dataset['Embarked'].fillna(freq_port)\n",
    "    \n",
    "train_df[['Embarked', 'Survived']].groupby(['Embarked'], as_index=False).mean().sort_values(by='Survived', \n",
    "                                                                                            ascending=False)"
   ]
  },
  {
   "cell_type": "code",
   "execution_count": null,
   "metadata": {
    "_active": false,
    "_cell_guid": "825a619a-71f1-400a-6264-ffcc8ad1df0f",
    "_uuid": "e10c36cef881194dc06df2689e4701b5462b017e",
    "collapsed": true,
    "deletable": true,
    "editable": true
   },
   "outputs": [],
   "source": [
    "# map Embarked : (S, C, Q) -> (0, 1, 2)\n",
    "\n",
    "for dataset in combine:\n",
    "    dataset['Embarked'] = dataset['Embarked'].map( {'S': 0, 'C': 1, 'Q': 2} ).astype(int)\n",
    "\n",
    "train_df.head()"
   ]
  },
  {
   "cell_type": "code",
   "execution_count": null,
   "metadata": {
    "_active": false,
    "_cell_guid": "99c4d11d-7de5-f141-cb7b-de95a06b8b3a",
    "_uuid": "79712fd521ac4985a7332d42f3907be326320f2f",
    "collapsed": true,
    "deletable": true,
    "editable": true
   },
   "outputs": [],
   "source": [
    "test_df['Fare'].fillna(test_df['Fare'].dropna().median(), inplace=True)\n",
    "test_df.head()"
   ]
  },
  {
   "cell_type": "code",
   "execution_count": null,
   "metadata": {
    "_active": false,
    "_cell_guid": "465b3675-98b8-4bf5-433e-6979796bbd88",
    "_uuid": "a608e8ffc0de65c55b985b6946998964a23145b8",
    "collapsed": true,
    "deletable": true,
    "editable": true
   },
   "outputs": [],
   "source": [
    "# creating fare band\n",
    "train_df['FareBand'] = pd.qcut(train_df['Fare'], 4)\n",
    "train_df[['FareBand', 'Survived']].groupby(['FareBand'], as_index=False).mean().sort_values(by='FareBand', \n",
    "                                                                                            ascending=True)"
   ]
  },
  {
   "cell_type": "code",
   "execution_count": null,
   "metadata": {
    "_active": false,
    "_cell_guid": "fe318fd6-cfad-2e30-0c67-b172e8c43770",
    "_uuid": "0193b3445b16c094c75c1379ac9c1c1eaa986216",
    "collapsed": true,
    "deletable": true,
    "editable": true
   },
   "outputs": [],
   "source": [
    "# convert the fare band to ordinal feature\n",
    "\n",
    "for dataset in combine:\n",
    "    dataset.loc[ dataset['Fare'] <= 7.91, 'Fare'] = 0\n",
    "    dataset.loc[(dataset['Fare'] > 7.91) & (dataset['Fare'] <= 14.454), 'Fare'] = 1\n",
    "    dataset.loc[(dataset['Fare'] > 14.454) & (dataset['Fare'] <= 31), 'Fare']   = 2\n",
    "    dataset.loc[ dataset['Fare'] > 31, 'Fare'] = 3\n",
    "    dataset['Fare'] = dataset['Fare'].astype(int)\n",
    "\n",
    "train_df = train_df.drop(['FareBand'], axis=1)\n",
    "combine = [train_df, test_df]"
   ]
  },
  {
   "cell_type": "code",
   "execution_count": null,
   "metadata": {
    "_active": false,
    "_cell_guid": "55a84cac-593c-917c-fb09-7fdf67a0d8b1",
    "_uuid": "6d8f2a3c82995816e34ff0cb28c1658e2c5e4e03",
    "collapsed": true,
    "deletable": true,
    "editable": true
   },
   "outputs": [],
   "source": [
    "train_df.head()"
   ]
  },
  {
   "cell_type": "code",
   "execution_count": null,
   "metadata": {
    "_active": false,
    "_cell_guid": "10ea1b72-f15f-8091-be7e-3cb9a1b2c70b",
    "_uuid": "a76ba94973f2571d3e3d408c4b0b8e02ef44a1ac",
    "collapsed": true,
    "deletable": true,
    "editable": true
   },
   "outputs": [],
   "source": [
    "X_train = train_df.drop(\"Survived\", axis=1)\n",
    "Y_train = train_df[\"Survived\"\n",
    "X_train.shape, Y_train.shape"
   ]
  },
  {
   "cell_type": "code",
   "execution_count": null,
   "metadata": {
    "_active": false,
    "_cell_guid": "123e295d-4d1e-c4df-e353-8e2255b09536",
    "_uuid": "107f20d76b9227a28226e59b1d8e982cb8e8ba2c",
    "collapsed": true,
    "deletable": true,
    "editable": true
   },
   "outputs": [],
   "source": [
    "X_test  = test_df.drop(\"PassengerId\", axis=1).copy()"
   ]
  },
  {
   "cell_type": "code",
   "execution_count": null,
   "metadata": {
    "_active": false,
    "_cell_guid": "71726d1b-b3e9-6d57-90f2-d7562a8826b1",
    "_uuid": "179816e94f21d3edaf24cc733fc3f4ce7cab4aae",
    "collapsed": true,
    "deletable": true,
    "editable": true
   },
   "outputs": [],
   "source": [
    "# Logistic Regression\n",
    "\n",
    "logreg = LogisticRegression()\n",
    "logreg.fit(X_train, Y_train)\n",
    "Y_pred = logreg.predict(X_test)\n",
    "acc_log = round(logreg.score(X_train, Y_train) * 100, 2)\n",
    "acc_log"
   ]
  },
  {
   "cell_type": "code",
   "execution_count": null,
   "metadata": {
    "_active": false,
    "_cell_guid": "5468e318-ed9a-5c52-561f-3b3998a738af",
    "_uuid": "2a24593507cf7d8223ccc8ad770b87ceb454f201",
    "collapsed": true,
    "deletable": true,
    "editable": true
   },
   "outputs": [],
   "source": [
    "coeff_df = pd.DataFrame(train_df.columns.delete(0))\n",
    "coeff_df.columns = ['Feature']\n",
    "coeff_df[\"Correlation\"] = pd.Series(logreg.coef_[0])\n",
    "\n",
    "coeff_df.sort_values(by='Correlation', ascending=False)"
   ]
  },
  {
   "cell_type": "markdown",
   "metadata": {
    "_active": false,
    "_cell_guid": "086b1a98-cf44-a201-1cc7-32478757a7b4",
    "_uuid": "9a915c09a48ca14cc2ddbfd14bb0b0d97efdd476",
    "deletable": true,
    "editable": true
   },
   "source": [
    "Inferences :  \n",
    "1. Sex is highest positive coefficient, implying as the Sex value increases (male: 0 to female: 1), the probability of Survived=1 increases the most.  \n",
    "2. Inversely as Pclass increases, probability of Survived=1 decreases the most.  \n",
    "3. Age*Class is a good artificial feature to model as it has second highest negative correlation with Survived.  \n",
    "4. Title as second highest positive correlation."
   ]
  },
  {
   "cell_type": "code",
   "execution_count": null,
   "metadata": {
    "_active": false,
    "_cell_guid": "d7b8d5de-5879-633e-8963-4aa7c228daae",
    "_uuid": "a7d807ee0cc6d173e8e92b41bccd6359a0362c3c",
    "collapsed": true,
    "deletable": true,
    "editable": true
   },
   "outputs": [],
   "source": [
    "# Support Vector Machines\n",
    "\n",
    "svc = SVC()\n",
    "svc.fit(X_train, Y_train)\n",
    "Y_pred = svc.predict(X_test)\n",
    "acc_svc = round(svc.score(X_train, Y_train) * 100, 2)\n",
    "acc_svc"
   ]
  },
  {
   "cell_type": "code",
   "execution_count": null,
   "metadata": {
    "_active": false,
    "_cell_guid": "28f7fa29-796b-fd20-fed8-8b748f7e16f5",
    "_uuid": "2115a0d968706012f487894c88e1b05c9f94f531",
    "collapsed": true,
    "deletable": true,
    "editable": true
   },
   "outputs": [],
   "source": [
    "# K Nearest Neighbours\n",
    "\n",
    "knn = KNeighborsClassifier(n_neighbors = 3)\n",
    "knn.fit(X_train, Y_train)\n",
    "Y_pred = knn.predict(X_test)\n",
    "acc_knn = round(knn.score(X_train, Y_train) * 100, 2)\n",
    "acc_knn"
   ]
  },
  {
   "cell_type": "code",
   "execution_count": null,
   "metadata": {
    "_active": false,
    "_cell_guid": "bb909380-4a17-193f-edb5-00e2625c940f",
    "_uuid": "187b7e7485b4510ab46bc292e41a5b20dd9e31df",
    "collapsed": true,
    "deletable": true,
    "editable": true
   },
   "outputs": [],
   "source": [
    "# Gaussian Naive Bayes\n",
    "\n",
    "gaussian = GaussianNB()\n",
    "gaussian.fit(X_train, Y_train)\n",
    "Y_pred = gaussian.predict(X_test)\n",
    "acc_gaussian = round(gaussian.score(X_train, Y_train) * 100, 2)\n",
    "acc_gaussian"
   ]
  },
  {
   "cell_type": "code",
   "execution_count": null,
   "metadata": {
    "_active": false,
    "_cell_guid": "f29c0310-a81e-3064-1718-ebcb88096535",
    "_uuid": "0e0e72639fba21128bba5aceb4b0dcea6a497fa5",
    "collapsed": true,
    "deletable": true,
    "editable": true
   },
   "outputs": [],
   "source": [
    "# Perceptron\n",
    "\n",
    "perceptron = Perceptron()\n",
    "perceptron.fit(X_train, Y_train)\n",
    "Y_pred = perceptron.predict(X_test)\n",
    "acc_perceptron = round(perceptron.score(X_train, Y_train) * 100, 2)\n",
    "acc_perceptron"
   ]
  },
  {
   "cell_type": "code",
   "execution_count": null,
   "metadata": {
    "_active": false,
    "_cell_guid": "7bb68a4f-6d96-2a7b-2c0c-fc24f4050255",
    "_uuid": "ac984bb0c35baf20702161a243dc6b78c6adb990",
    "collapsed": true,
    "deletable": true,
    "editable": true
   },
   "outputs": [],
   "source": [
    "# Linear SVC\n",
    "\n",
    "linear_svc = LinearSVC()\n",
    "linear_svc.fit(X_train, Y_train)\n",
    "Y_pred = linear_svc.predict(X_test)\n",
    "acc_linear_svc = round(linear_svc.score(X_train, Y_train) * 100, 2)\n",
    "acc_linear_svc"
   ]
  },
  {
   "cell_type": "code",
   "execution_count": null,
   "metadata": {
    "_active": false,
    "_cell_guid": "080373e3-a2ba-5db1-ec93-faf9fe05062f",
    "_uuid": "8e66b5332096e89a4390cce1b1152d3838e22d17",
    "collapsed": true,
    "deletable": true,
    "editable": true
   },
   "outputs": [],
   "source": [
    "# Stochastic Gradient Descent\n",
    "\n",
    "sgd = SGDClassifier()\n",
    "sgd.fit(X_train, Y_train)\n",
    "Y_pred = sgd.predict(X_test)\n",
    "acc_sgd = round(sgd.score(X_train, Y_train) * 100, 2)\n",
    "acc_sgd"
   ]
  },
  {
   "cell_type": "code",
   "execution_count": null,
   "metadata": {
    "_active": false,
    "_cell_guid": "446abec1-4eae-e6eb-c248-4fcd02723906",
    "_uuid": "67fed880941f3075610a3b343b9f713b29b4b532",
    "collapsed": true,
    "deletable": true,
    "editable": true
   },
   "outputs": [],
   "source": [
    "# Stochastic Gradient Descent\n",
    "\n",
    "sgd = SGDClassifier()\n",
    "sgd.fit(X_train, Y_train)\n",
    "Y_pred = sgd.predict(X_test)\n",
    "acc_sgd = round(sgd.score(X_train, Y_train) * 100, 2)\n",
    "acc_sgd"
   ]
  },
  {
   "cell_type": "code",
   "execution_count": null,
   "metadata": {
    "_active": false,
    "_cell_guid": "9b0c3b0a-04b8-f4b4-cf12-b54d39bea4e5",
    "_uuid": "69fa25df9e94b0def3759403dbba3e628c828eda",
    "collapsed": true,
    "deletable": true,
    "editable": true
   },
   "outputs": [],
   "source": [
    "# Stochastic Gradient Descent\n",
    "\n",
    "sgd = SGDClassifier()\n",
    "sgd.fit(X_train, Y_train)\n",
    "Y_pred = sgd.predict(X_test)\n",
    "acc_sgd = round(sgd.score(X_train, Y_train) * 100, 2)\n",
    "acc_sgd"
   ]
  },
  {
   "cell_type": "code",
   "execution_count": null,
   "metadata": {
    "_active": false,
    "_cell_guid": "b286e2c1-72eb-331b-ebb1-89addca2e13d",
    "_uuid": "46f3f79ebfd491e031e05215cc2fc770f6659692",
    "collapsed": true,
    "deletable": true,
    "editable": true
   },
   "outputs": [],
   "source": [
    "# Decision Tree\n",
    "\n",
    "decision_tree = DecisionTreeClassifier()\n",
    "decision_tree.fit(X_train, Y_train)\n",
    "Y_pred = decision_tree.predict(X_test)\n",
    "acc_decision_tree = round(decision_tree.score(X_train, Y_train) * 100, 2)\n",
    "acc_decision_tree"
   ]
  },
  {
   "cell_type": "code",
   "execution_count": null,
   "metadata": {
    "_active": false,
    "_cell_guid": "62fcc495-5fb4-5251-4f62-f684e3839ceb",
    "_uuid": "aaa9b390b818da4b39a0718f6befc45a1f195d43",
    "collapsed": true,
    "deletable": true,
    "editable": true
   },
   "outputs": [],
   "source": [
    "# Random Forest\n",
    "\n",
    "random_forest = RandomForestClassifier(n_estimators=100)\n",
    "random_forest.fit(X_train, Y_train)\n",
    "Y_pred = random_forest.predict(X_test)\n",
    "random_forest.score(X_train, Y_train)\n",
    "acc_random_forest = round(random_forest.score(X_train, Y_train) * 100, 2)\n",
    "acc_random_forest"
   ]
  },
  {
   "cell_type": "code",
   "execution_count": null,
   "metadata": {
    "_active": false,
    "_cell_guid": "ffc8c8dd-b963-aef2-0ef2-895dc5142d9b",
    "_uuid": "d6081c95fef35dbb87c39b4186ead5d71765b28a",
    "collapsed": true,
    "deletable": true,
    "editable": true
   },
   "outputs": [],
   "source": [
    "models = pd.DataFrame({\n",
    "    'Model': ['Support Vector Machines', 'KNN', 'Logistic Regression', \n",
    "              'Random Forest', 'Naive Bayes', 'Perceptron', \n",
    "              'Stochastic Gradient Decent', 'Linear SVC', \n",
    "              'Decision Tree'],\n",
    "    'Score': [acc_svc, acc_knn, acc_log, \n",
    "              acc_random_forest, acc_gaussian, acc_perceptron, \n",
    "              acc_sgd, acc_linear_svc, acc_decision_tree]})\n",
    "models.sort_values(by='Score', ascending=False)"
   ]
  }
 ],
 "metadata": {
  "kernelspec": {
   "display_name": "Python 2",
   "language": "python",
   "name": "python2"
  },
  "language_info": {
   "codemirror_mode": {
    "name": "ipython",
    "version": 2
   },
   "file_extension": ".py",
   "mimetype": "text/x-python",
   "name": "python",
   "nbconvert_exporter": "python",
   "pygments_lexer": "ipython2",
   "version": "2.7.12+"
  }
 },
 "nbformat": 4,
 "nbformat_minor": 0
}
