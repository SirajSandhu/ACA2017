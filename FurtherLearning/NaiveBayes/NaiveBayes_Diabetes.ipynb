{
 "cells": [
  {
   "cell_type": "markdown",
   "metadata": {},
   "source": [
    "Handling of Data"
   ]
  },
  {
   "cell_type": "code",
   "execution_count": 1,
   "metadata": {
    "collapsed": true
   },
   "outputs": [],
   "source": [
    "import csv\n",
    "\n",
    "def loadCsv (filename) :\n",
    "    lines = csv.reader(open(filename, \"rb\"))\n",
    "    dataset = list(lines)\n",
    "    for i in range (len(dataset)) :\n",
    "        dataset[i] = [float(x) for x in dataset[i]]\n",
    "    \n",
    "    return dataset"
   ]
  },
  {
   "cell_type": "code",
   "execution_count": 2,
   "metadata": {
    "collapsed": true
   },
   "outputs": [],
   "source": [
    "filename = 'pima-indians-diabetes-data.csv'\n",
    "\n",
    "dataset = loadCsv (filename)"
   ]
  },
  {
   "cell_type": "code",
   "execution_count": 4,
   "metadata": {
    "collapsed": false
   },
   "outputs": [],
   "source": [
    "import random\n",
    "\n",
    "def splitDataset (dataset, splitRatio) :\n",
    "    trainSize = int(len(dataset)*splitRatio)\n",
    "    trainSet = []\n",
    "    copy = list(dataset)\n",
    "    while len(trainSet)<trainSize :\n",
    "        index = random.randrange(len(copy))\n",
    "        trainSet.append(copy.pop(index))\n",
    "    \n",
    "    return [trainSet, copy]\n",
    "# copy contains the remaining data points"
   ]
  },
  {
   "cell_type": "markdown",
   "metadata": {},
   "source": [
    "Summarization of Data  \n",
    "The summary of the training data collected involves the mean and the standard deviation for each attribute, by class value.  \n",
    "We can break the preparation of this summary data down into the following sub-tasks:\n",
    "\n",
    "1. Separate Data By Class\n",
    "2. Calculate Mean\n",
    "3. Calculate Standard Deviation\n",
    "4. Summarize Dataset\n",
    "5. Summarize Attributes By Class"
   ]
  },
  {
   "cell_type": "markdown",
   "metadata": {},
   "source": [
    "The first task is to separate the training dataset instances by class value so that we can calculate statistics for each class. We can do that by creating a map of each class value to a list of instances that belong to that class and sort the entire dataset of instances into the appropriate lists."
   ]
  },
  {
   "cell_type": "code",
   "execution_count": 5,
   "metadata": {
    "collapsed": true
   },
   "outputs": [],
   "source": [
    "def separateByClass (dataset) :\n",
    "    separated = {}\n",
    "    for i in range(len(dataset)) :\n",
    "        vector = dataset[i]\n",
    "        if vector[-1] not in separated :\n",
    "            separated[vector[-1]] = []\n",
    "        separated[vector[-1]].append(vector)\n",
    "    return separated"
   ]
  },
  {
   "cell_type": "code",
   "execution_count": 6,
   "metadata": {
    "collapsed": true
   },
   "outputs": [],
   "source": [
    "import math\n",
    "\n",
    "def mean (numbers) :\n",
    "    return sum(numbers)/float(len(numbers))\n",
    "\n",
    "def stdev (numbers) :\n",
    "    avg = mean(numbers)\n",
    "    variance = sum([pow(x-avg, 2) for x in numbers])/float(len(numbers))\n",
    "    return math.sqrt(variance)"
   ]
  },
  {
   "cell_type": "code",
   "execution_count": 7,
   "metadata": {
    "collapsed": true
   },
   "outputs": [],
   "source": [
    "def summarize (dataset) :\n",
    "    summaries = [(mean(attribute), stdev(attribute)) for attribute in zip(*dataset)]\n",
    "    del summaries[-1]\n",
    "    return summaries"
   ]
  },
  {
   "cell_type": "code",
   "execution_count": 8,
   "metadata": {
    "collapsed": true
   },
   "outputs": [],
   "source": [
    "def summarizeByClass (dataset) :\n",
    "    separated = separateByClass(dataset)\n",
    "    summaries = {}\n",
    "    for classValue, instances in separated.iteritems() :\n",
    "        summaries[classValue] = summarize(instances)\n",
    "    return summaries"
   ]
  },
  {
   "cell_type": "markdown",
   "metadata": {},
   "source": [
    "Making Predictions  \n",
    "  \n",
    "We can divide this part into the following tasks:\n",
    "\n",
    "1. Calculate Gaussian Probability Density Function\n",
    "2. Calculate Class Probabilities\n",
    "3. Make a Prediction\n",
    "4. Estimate Accuracy"
   ]
  },
  {
   "cell_type": "code",
   "execution_count": 32,
   "metadata": {
    "collapsed": true
   },
   "outputs": [],
   "source": [
    "def calculateGaussianProbability (x, mean, stdev) :\n",
    "    exponent = math.exp(-(math.pow(x-mean,2)/(2*math.pow(stdev,2))))\n",
    "    return (1 / (math.sqrt(2*math.pi) * stdev)) * exponent"
   ]
  },
  {
   "cell_type": "code",
   "execution_count": 43,
   "metadata": {
    "collapsed": true
   },
   "outputs": [],
   "source": [
    "def calculateGaussianLogProbability (x, mean, stdev) :\n",
    "    exponent = math.exp(-(math.pow(x-mean,2)/(2*math.pow(stdev,2))))\n",
    "    return math.log((1 / (math.sqrt(2*math.pi) * stdev)) * exponent)"
   ]
  },
  {
   "cell_type": "code",
   "execution_count": 54,
   "metadata": {
    "collapsed": true
   },
   "outputs": [],
   "source": [
    "def calculateClassProbabilities (summaries, inputVector, logProbability=False) :\n",
    "    probabilities = {}\n",
    "    for classValue, classSummaries in summaries.iteritems() :\n",
    "        probabilities[classValue] = 1\n",
    "        for i in range(len(classSummaries)) :\n",
    "            mean, stdev = classSummaries[i]\n",
    "            x = inputVector[i]\n",
    "            if logProbability==False :\n",
    "                probabilities[classValue] *= calculateGaussianProbability(x, mean, stdev)\n",
    "            else :\n",
    "                probabilities[classValue] += calculateGaussianLogProbability(x, mean, stdev)\n",
    "    if logProbability==False :\n",
    "        return probabilities\n",
    "    else :\n",
    "        for classValue, logOfProbability in probabilities.iteritems() :\n",
    "            probabilities[classValue] = math.exp(logOfProbability)\n",
    "        return probabilities"
   ]
  },
  {
   "cell_type": "code",
   "execution_count": 55,
   "metadata": {
    "collapsed": true
   },
   "outputs": [],
   "source": [
    "def predict(summaries, inputVector, logProbability=False) :\n",
    "    probabilities = calculateClassProbabilities(summaries, inputVector, logProbability)\n",
    "    bestLabel, bestProb = None, -1\n",
    "    for classValue, probability in probabilities.iteritems() :\n",
    "        if bestLabel is None or probability > bestProb :\n",
    "            bestProb = probability\n",
    "            bestLabel = classValue\n",
    "    return bestLabel"
   ]
  },
  {
   "cell_type": "code",
   "execution_count": 56,
   "metadata": {
    "collapsed": true
   },
   "outputs": [],
   "source": [
    "def getPredictions (summaries, testSet, logProbability=False) :\n",
    "    predictions = []\n",
    "    for i in range(len(testSet)) :\n",
    "        result = predict(summaries, testSet[i], logProbability)\n",
    "        predictions.append(result)\n",
    "    return predictions"
   ]
  },
  {
   "cell_type": "code",
   "execution_count": 57,
   "metadata": {
    "collapsed": true
   },
   "outputs": [],
   "source": [
    "def getAccuracy(testSet, predictions) :\n",
    "    correct = 0\n",
    "    for i in range(len(testSet)) :\n",
    "        correct += (testSet[i][-1]==predictions[i])\n",
    "    return correct/float(len(testSet))*100"
   ]
  },
  {
   "cell_type": "code",
   "execution_count": 60,
   "metadata": {
    "collapsed": false
   },
   "outputs": [
    {
     "name": "stdout",
     "output_type": "stream",
     "text": [
      "Accuracy of Naive Bayes Classifier is 73.234201\n"
     ]
    }
   ],
   "source": [
    "splitRatio = 0.65\n",
    "trainingSet, testSet = splitDataset(dataset, splitRatio)\n",
    "\n",
    "summaries = summarizeByClass(trainingSet)\n",
    "\n",
    "predictions = getPredictions(summaries, testSet, logProbability=True)\n",
    "accuracy = getAccuracy(testSet, predictions)\n",
    "\n",
    "print \"Accuracy of Naive Bayes Classifier is %f\" %accuracy"
   ]
  },
  {
   "cell_type": "code",
   "execution_count": null,
   "metadata": {
    "collapsed": true
   },
   "outputs": [],
   "source": []
  }
 ],
 "metadata": {
  "kernelspec": {
   "display_name": "Python 2",
   "language": "python",
   "name": "python2"
  },
  "language_info": {
   "codemirror_mode": {
    "name": "ipython",
    "version": 2
   },
   "file_extension": ".py",
   "mimetype": "text/x-python",
   "name": "python",
   "nbconvert_exporter": "python",
   "pygments_lexer": "ipython2",
   "version": "2.7.12+"
  }
 },
 "nbformat": 4,
 "nbformat_minor": 2
}
