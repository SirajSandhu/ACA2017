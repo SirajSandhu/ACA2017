{
 "cells": [
  {
   "cell_type": "code",
   "execution_count": 1,
   "metadata": {
    "collapsed": true,
    "deletable": true,
    "editable": true
   },
   "outputs": [],
   "source": [
    "document = \"\"\"To Sherlock Holmes she is always the woman. I have\n",
    "seldom heard him mention her under any other name. In his eyes she\n",
    "eclipses and predominates the whole of her sex. It was not that he\n",
    "felt any emotion akin to love for Irene Adler. All emotions, and that\n",
    "one particularly, were abhorrent to his cold, precise but admirably\n",
    "balanced mind. He was, I take it, the most perfect reasoning and\n",
    "observing machine that the world has seen, but as a lover he would\n",
    "have placed himself in a false position. He never spoke of the softer\n",
    "passions, save with a gibe and a sneer. They were admirable things for\n",
    "the observer-excellent for drawing the veil from men’s motives and\n",
    "actions. But for the trained reasoner to admit such intrusions into\n",
    "his own delicate and finely adjusted temperament was to introduce a\n",
    "distracting factor which might throw a doubt upon all his mental\n",
    "results. Grit in a sensitive instrument, or a crack in one of his own\n",
    "high-power lenses, would not be more disturbing than a strong emotion\n",
    "in a nature such as his. And yet there was but one woman to him, and\n",
    "that woman was the late Irene Adler, of dubious and questionable\n",
    "memory.\n",
    "\"\"\""
   ]
  },
  {
   "cell_type": "code",
   "execution_count": 2,
   "metadata": {
    "collapsed": false,
    "deletable": true,
    "editable": true
   },
   "outputs": [
    {
     "name": "stdout",
     "output_type": "stream",
     "text": [
      "felt any emotion akin to love for Irene Adler.\n",
      "one particularly, were abhorrent to his cold, precise but admirably\n",
      "He was, I take it, the most perfect reasoning and\n",
      "But for the trained reasoner to admit such intrusions into\n",
      "that woman was the late Irene Adler, of dubious and questionable\n"
     ]
    }
   ],
   "source": [
    "from gensim.summarization import summarize\n",
    "print summarize(document)"
   ]
  },
  {
   "cell_type": "code",
   "execution_count": 3,
   "metadata": {
    "collapsed": false,
    "deletable": true,
    "editable": true
   },
   "outputs": [],
   "source": [
    "import nltk\n",
    "from nltk.tokenize.punkt import PunktSentenceTokenizer"
   ]
  },
  {
   "cell_type": "code",
   "execution_count": 4,
   "metadata": {
    "collapsed": false,
    "deletable": true,
    "editable": true
   },
   "outputs": [],
   "source": [
    "sentence_tokenizer = PunktSentenceTokenizer()\n",
    "sentences_original = sentence_tokenizer.tokenize(\" \".join(document.strip().split(\"\\n\")))"
   ]
  },
  {
   "cell_type": "code",
   "execution_count": 5,
   "metadata": {
    "collapsed": true,
    "deletable": true,
    "editable": true
   },
   "outputs": [],
   "source": [
    "from nltk.corpus import stopwords"
   ]
  },
  {
   "cell_type": "code",
   "execution_count": 6,
   "metadata": {
    "collapsed": true,
    "deletable": true,
    "editable": true
   },
   "outputs": [],
   "source": [
    "stops = set(stopwords.words(\"english\"))"
   ]
  },
  {
   "cell_type": "code",
   "execution_count": 7,
   "metadata": {
    "collapsed": true,
    "deletable": true,
    "editable": true
   },
   "outputs": [],
   "source": [
    "document = document.lower().split()\n",
    "document = [w for w in document if not w in stops]"
   ]
  },
  {
   "cell_type": "code",
   "execution_count": 8,
   "metadata": {
    "collapsed": false,
    "deletable": true,
    "editable": true
   },
   "outputs": [
    {
     "data": {
      "text/plain": [
       "'sherlock holmes always woman. seldom heard mention name. eyes eclipses predominates whole sex. felt emotion akin love irene adler. emotions, one particularly, abhorrent cold, precise admirably balanced mind. was, take it, perfect reasoning observing machine world seen, lover would placed false position. never spoke softer passions, save gibe sneer. admirable things observer-excellent drawing veil men\\xe2\\x80\\x99s motives actions. trained reasoner admit intrusions delicate finely adjusted temperament introduce distracting factor might throw doubt upon mental results. grit sensitive instrument, crack one high-power lenses, would disturbing strong emotion nature his. yet one woman him, woman late irene adler, dubious questionable memory.'"
      ]
     },
     "execution_count": 8,
     "metadata": {},
     "output_type": "execute_result"
    }
   ],
   "source": [
    "document = \" \".join(document)\n",
    "document"
   ]
  },
  {
   "cell_type": "code",
   "execution_count": 9,
   "metadata": {
    "collapsed": false,
    "deletable": true,
    "editable": true
   },
   "outputs": [],
   "source": [
    "document = \" \".join(document.strip().split(\"\\n\"))\n",
    "\n",
    "sentences = sentence_tokenizer.tokenize(document)"
   ]
  },
  {
   "cell_type": "code",
   "execution_count": 10,
   "metadata": {
    "collapsed": false,
    "deletable": true,
    "editable": true
   },
   "outputs": [
    {
     "data": {
      "text/plain": [
       "'sherlock holmes always woman. seldom heard mention name. eyes eclipses predominates whole sex. felt emotion akin love irene adler. emotions, one particularly, abhorrent cold, precise admirably balanced mind. was, take it, perfect reasoning observing machine world seen, lover would placed false position. never spoke softer passions, save gibe sneer. admirable things observer-excellent drawing veil men\\xe2\\x80\\x99s motives actions. trained reasoner admit intrusions delicate finely adjusted temperament introduce distracting factor might throw doubt upon mental results. grit sensitive instrument, crack one high-power lenses, would disturbing strong emotion nature his. yet one woman him, woman late irene adler, dubious questionable memory.'"
      ]
     },
     "execution_count": 10,
     "metadata": {},
     "output_type": "execute_result"
    }
   ],
   "source": [
    "document"
   ]
  },
  {
   "cell_type": "code",
   "execution_count": 11,
   "metadata": {
    "collapsed": false,
    "deletable": true,
    "editable": true
   },
   "outputs": [
    {
     "name": "stdout",
     "output_type": "stream",
     "text": [
      "sherlock holmes always woman \n",
      "seldom heard mention name \n",
      "eyes eclipses predominates whole sex \n",
      "felt emotion akin love irene adler \n",
      "emotions  one particularly  abhorrent cold  precise admirably balanced mind \n",
      "was  take it  perfect reasoning observing machine world seen  lover would placed false position \n",
      "never spoke softer passions  save gibe sneer \n",
      "admirable things observer excellent drawing veil men   s motives actions \n",
      "trained reasoner admit intrusions delicate finely adjusted temperament introduce distracting factor might throw doubt upon mental results \n",
      "grit sensitive instrument  crack one high power lenses  would disturbing strong emotion nature his \n",
      "yet one woman him  woman late irene adler  dubious questionable memory \n"
     ]
    }
   ],
   "source": [
    "import re\n",
    "\n",
    "for i in xrange(0, len(sentences)) :\n",
    "    sentences[i] = re.sub(\"[^a-zA-Z]\", \" \", sentences[i])\n",
    "    print sentences[i]"
   ]
  },
  {
   "cell_type": "code",
   "execution_count": 12,
   "metadata": {
    "collapsed": false,
    "deletable": true,
    "editable": true
   },
   "outputs": [],
   "source": [
    "from gensim.models import Word2Vec\n",
    "model = Word2Vec.load(\"~/Desktop/PClub_DTC/NLP_Learning/Kaggle_BagOfWords/300features_40minwords_10context\")"
   ]
  },
  {
   "cell_type": "code",
   "execution_count": 13,
   "metadata": {
    "collapsed": true,
    "deletable": true,
    "editable": true
   },
   "outputs": [],
   "source": [
    "import numpy as np"
   ]
  },
  {
   "cell_type": "code",
   "execution_count": 14,
   "metadata": {
    "collapsed": true,
    "deletable": true,
    "editable": true
   },
   "outputs": [],
   "source": [
    "index2word_set = set(model.wv.vocab)"
   ]
  },
  {
   "cell_type": "code",
   "execution_count": 15,
   "metadata": {
    "collapsed": false,
    "deletable": true,
    "editable": true
   },
   "outputs": [],
   "source": [
    "sentence_matrix = []\n",
    "sentence_length = []\n",
    "\n",
    "num_features = 300\n",
    "\n",
    "for sentence in sentences :\n",
    "    num_words = 0\n",
    "    words = sentence.split()\n",
    "    matrix = np.empty(shape=(len(words), 300), dtype=float)\n",
    "    for word in words : \n",
    "        if word in index2word_set :\n",
    "            matrix[num_words] = model[word]\n",
    "            num_words = num_words + 1\n",
    "\n",
    "    extra_rows = len(words) - num_words\n",
    "    \n",
    "    for i in xrange(0, extra_rows) :\n",
    "        matrix = np.delete(matrix, -1, 0)\n",
    "        \n",
    "    sentence_matrix.append(matrix)\n",
    "    sentence_length.append(num_words)"
   ]
  },
  {
   "cell_type": "code",
   "execution_count": 16,
   "metadata": {
    "collapsed": true,
    "deletable": true,
    "editable": true
   },
   "outputs": [],
   "source": [
    "similarity_matrix = np.identity(len(sentence_matrix))"
   ]
  },
  {
   "cell_type": "code",
   "execution_count": 17,
   "metadata": {
    "collapsed": false,
    "deletable": true,
    "editable": true
   },
   "outputs": [],
   "source": [
    "for i in xrange(0, len(sentence_matrix)) :\n",
    "    for j in xrange(i+1, len(sentence_matrix)) :\n",
    "        cum_sum = (np.dot(sentence_matrix[0], sentence_matrix[1].T)).sum(axis=0).sum()\n",
    "        cum_sum = (2*cum_sum)/(sentence_length[i] + sentence_length[j])\n",
    "        similarity_matrix[i][j] = cum_sum\n",
    "        similarity_matrix[j][i] = cum_sum"
   ]
  },
  {
   "cell_type": "code",
   "execution_count": 18,
   "metadata": {
    "collapsed": false,
    "deletable": true,
    "editable": true
   },
   "outputs": [],
   "source": [
    "import networkx as nx\n",
    "nx_graph = nx.from_numpy_matrix(similarity_matrix)\n",
    "scores = nx.pagerank(nx_graph)"
   ]
  },
  {
   "cell_type": "code",
   "execution_count": 19,
   "metadata": {
    "collapsed": false,
    "deletable": true,
    "editable": true
   },
   "outputs": [
    {
     "data": {
      "text/plain": [
       "['To Sherlock Holmes she is always the woman.',\n",
       " 'I have seldom heard him mention her under any other name.',\n",
       " 'In his eyes she eclipses and predominates the whole of her sex.',\n",
       " 'It was not that he felt any emotion akin to love for Irene Adler.',\n",
       " 'All emotions, and that one particularly, were abhorrent to his cold, precise but admirably balanced mind.',\n",
       " 'He was, I take it, the most perfect reasoning and observing machine that the world has seen, but as a lover he would have placed himself in a false position.',\n",
       " 'He never spoke of the softer passions, save with a gibe and a sneer.',\n",
       " 'They were admirable things for the observer-excellent for drawing the veil from men\\xe2\\x80\\x99s motives and actions.',\n",
       " 'But for the trained reasoner to admit such intrusions into his own delicate and finely adjusted temperament was to introduce a distracting factor which might throw a doubt upon all his mental results.',\n",
       " 'Grit in a sensitive instrument, or a crack in one of his own high-power lenses, would not be more disturbing than a strong emotion in a nature such as his.',\n",
       " 'And yet there was but one woman to him, and that woman was the late Irene Adler, of dubious and questionable memory.']"
      ]
     },
     "execution_count": 19,
     "metadata": {},
     "output_type": "execute_result"
    }
   ],
   "source": [
    "sentences_original"
   ]
  },
  {
   "cell_type": "code",
   "execution_count": 20,
   "metadata": {
    "collapsed": true,
    "deletable": true,
    "editable": true
   },
   "outputs": [],
   "source": [
    "ranked = sorted(((scores[i],i) for (i, s) in enumerate(sentences_original)), reverse=True)"
   ]
  },
  {
   "cell_type": "code",
   "execution_count": 21,
   "metadata": {
    "collapsed": false,
    "deletable": true,
    "editable": true
   },
   "outputs": [
    {
     "name": "stdout",
     "output_type": "stream",
     "text": [
      "In his eyes she eclipses and predominates the whole of her sex.\n",
      "He never spoke of the softer passions, save with a gibe and a sneer.\n",
      "I have seldom heard him mention her under any other name.\n"
     ]
    }
   ],
   "source": [
    "summary_length = len(sentences)/3\n",
    "\n",
    "for i in xrange(0, summary_length) :\n",
    "    print sentences_original[ranked[i][1]]"
   ]
  }
 ],
 "metadata": {
  "kernelspec": {
   "display_name": "Python 2",
   "language": "python",
   "name": "python2"
  },
  "language_info": {
   "codemirror_mode": {
    "name": "ipython",
    "version": 2
   },
   "file_extension": ".py",
   "mimetype": "text/x-python",
   "name": "python",
   "nbconvert_exporter": "python",
   "pygments_lexer": "ipython2",
   "version": "2.7.12+"
  }
 },
 "nbformat": 4,
 "nbformat_minor": 2
}
